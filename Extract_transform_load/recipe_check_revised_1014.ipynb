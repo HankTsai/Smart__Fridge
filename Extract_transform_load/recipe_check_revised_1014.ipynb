{
 "cells": [
  {
   "cell_type": "code",
   "execution_count": 1,
   "metadata": {},
   "outputs": [],
   "source": [
    "import json\n",
    "import time"
   ]
  },
  {
   "cell_type": "code",
   "execution_count": 2,
   "metadata": {},
   "outputs": [
    {
     "name": "stdout",
     "output_type": "stream",
     "text": [
      "Training completed. It cost : 13.81679368019104 sec\n"
     ]
    }
   ],
   "source": [
    "start = time.time()\n",
    "with open(r'C:\\Users\\Big data\\PycharmProjects\\collaborative_filtering\\dataset\\recipe0928_V5.json','r')as f:\n",
    "    content = json.load(f)\n",
    "\n",
    "end = time.time()\n",
    "print(f'Training completed. It cost : {end-start} sec')"
   ]
  },
  {
   "cell_type": "code",
   "execution_count": 3,
   "metadata": {},
   "outputs": [
    {
     "data": {
      "text/plain": [
       "179763"
      ]
     },
     "execution_count": 3,
     "metadata": {},
     "output_type": "execute_result"
    }
   ],
   "source": [
    "len(content)"
   ]
  },
  {
   "cell_type": "code",
   "execution_count": null,
   "metadata": {},
   "outputs": [],
   "source": [
    "name_ab_data = 0\n",
    "url_ab_data = 0\n",
    "step_ab_data = 0\n",
    "time_unknown = 0\n",
    "quantity_zero = 0\n",
    "content_empty_data = 0\n",
    "tag_empty_data = 0\n",
    "image_empty_data = 0\n",
    "total_num = 0\n",
    "ingredient_lose = 0\n",
    "seasoning_lose = 0\n",
    "for k in content:\n",
    "    # print(k['step'])\n",
    "    if k['step'] == {}:\n",
    "        print(f'{one} --> the dictionary of steps is empty !! {k[\"recipe\"]}: {k[\"url\"]}')\n",
    "        step_ab_data += 1\n",
    "    else:\n",
    "        try:\n",
    "            if k['step']['content'] == []:\n",
    "                missing_data += 1\n",
    "                content_empty_data += 1\n",
    "                # print(f'{one} --> content is empty. {k[\"recipe\"]}: {k[\"url\"]}')\n",
    "        except:\n",
    "            pass\n",
    "# if missing_data > 0:\n",
    "#     print(f'{one} --> missing {missing_data} data without step content of total {len(content)}.')\n",
    "\n",
    "    if k['recipe'] == '':\n",
    "        name_ab_data += 1\n",
    "\n",
    "    if k['url'] == '':\n",
    "        url_ab_data +=1\n",
    "\n",
    "    if k['image'] == '':\n",
    "        image_empty_data += 1\n",
    "\n",
    "    if k['tags'] == []:\n",
    "        tag_empty_data += 1\n",
    "\n",
    "    if k['time'] == 'unknown':\n",
    "        time_unknown += 1\n",
    "\n",
    "    if k['quantity'] == 0:\n",
    "        quantity_zero += 1\n",
    "    \n",
    "    if k['ingredient'] == []:\n",
    "        ingredient_lose += 1\n",
    "        print(k['item'])\n",
    "        print(k['newItem'])\n",
    "        print(k['ingredient'])\n",
    "        print(k['seasoning'])\n",
    "        print('------------------------------')\n",
    "        \n",
    "    if k['seasoning'] == []:\n",
    "        seasoning_lose +=1"
   ]
  },
  {
   "cell_type": "code",
   "execution_count": null,
   "metadata": {},
   "outputs": [],
   "source": [
    "print(f'total number of recipes:{len(content)}')\n",
    "print(f'name losed: {name_ab_data}')\n",
    "print(f'url losed: {url_ab_data}')\n",
    "print(f'image losed: {image_empty_data}')\n",
    "print(f'tag losed: {tag_empty_data}')\n",
    "print(f'time losed: {time_unknown}')\n",
    "print(f'quantity losed: {quantity_zero}')\n",
    "print(f'step dictionary is empty: {step_ab_data}')\n",
    "print(f'content is empty: {content_empty_data}')\n",
    "print(f'total missing data for all recipe: {step_ab_data + content_empty_data}')\n",
    "print(f'the ingredient losed data: {ingredient_lose}')\n",
    "print(f'the seasoning losed data: {seasoning_lose}')"
   ]
  },
  {
   "cell_type": "markdown",
   "metadata": {},
   "source": [
    "### 20201013 \n",
    "#### 處理_id設為index&like改成數字&tags改為集合&ingredient新增鍵值只有食材名稱"
   ]
  },
  {
   "cell_type": "code",
   "execution_count": null,
   "metadata": {
    "scrolled": false
   },
   "outputs": [],
   "source": [
    "# 原始樣貌\n",
    "content[0]"
   ]
  },
  {
   "cell_type": "code",
   "execution_count": 4,
   "metadata": {},
   "outputs": [],
   "source": [
    "import re\n",
    "for idx,k in enumerate(content):\n",
    "    '''index'''\n",
    "    k['_id'] = idx\n",
    "    \n",
    "    '''like'''\n",
    "    like = k['like']\n",
    "    pattern = r'.*[0-9.,]+'\n",
    "    if isinstance(like,int):\n",
    "        pass\n",
    "    elif not re.match(pattern,like):\n",
    "        k['like'] = 0\n",
    "    else:\n",
    "        try:\n",
    "            like = re.match(pattern,like).group()\n",
    "            if '.' in like:\n",
    "                a1 = like.strip().split('.')\n",
    "                k['like'] = eval(''.join(a1))*1000\n",
    "            elif ',' in like:\n",
    "                a1 = like.strip().split(',')\n",
    "                k['like'] = eval(''.join(a1))\n",
    "        except Exception as e:\n",
    "            print(e)\n",
    "            print(k['like'])\n",
    "\n",
    "    '''tags'''\n",
    "    '''變成set會無法寫入jsonfile'''\n",
    "#     k['tags'] = set(k['tags']) \n",
    "    \n",
    "    '''ingredient without unit'''\n",
    "    k['ing_dict'] = {}\n",
    "    k['season_dict'] = {}\n",
    "    for i,v in k.items():\n",
    "        if i == 'ingredient':\n",
    "            for a,b in k[i]:\n",
    "                k['ing_dict'][a] = b\n",
    "        if i == 'seasoning':\n",
    "            for a,b in k[i]:\n",
    "                k['season_dict'][a] = b\n",
    "                \n",
    "    '''quantity check'''\n",
    "    if k['quantity'] == 0:\n",
    "        k['quantity'] = 1\n",
    "    else:\n",
    "        try:\n",
    "            k['quantity'] = int(k['quantity'])\n",
    "        except:\n",
    "            k['quantity'] = int(k['quantity'][0])"
   ]
  },
  {
   "cell_type": "code",
   "execution_count": 5,
   "metadata": {},
   "outputs": [
    {
     "data": {
      "text/plain": [
       "{'_id': 0,\n",
       " 'recipe': '金黃玉子燒',\n",
       " 'tags': ['玉子焼', '玉子燒', '煎蛋捲', '蛋', '日式'],\n",
       " 'url': 'https://icook.tw/recipes/99001',\n",
       " 'like': 3800,\n",
       " 'time': 'unknown',\n",
       " 'image': 'https://imageproxy.icook.network/resize?height=600&nocrop=false&stripmeta=true&type=auto&url=http%3A%2F%2Ftokyo-kitchen.icook.tw.s3.amazonaws.com%2Fuploads%2Frecipe%2Fcover%2F99001%2F7894a541b7bcc225.jpg&width=800',\n",
       " 'quantity': 1,\n",
       " 'item': [['蛋', '2顆'],\n",
       "  ['水', '50ml'],\n",
       "  ['味霖', '1大匙'],\n",
       "  ['鰹魚粉', '1小匙'],\n",
       "  ['太白粉', '2小匙']],\n",
       " 'step': {'content': ['步驟1.將材料全部混合在一起.筷子用站立的方式混合約10來下就好了.，（沙拉油裡再準備個餐巾紙.用來抹在鍋子裡的）',\n",
       "   '步驟2.蛋在混合時.用筷子把蛋白拉起夾斷.這個動作..等等再煎的時候.也比較不會一陀蛋白直接滑進鍋子裡.',\n",
       "   '步驟3.用餐巾紙沾油之後.抹在鍋子裡後.開中小火.然後倒入薄薄的一層蛋液.然後看到蛋液像圖片中這種狀態時.就可以捲起來了.，（我總共約分3-4次.）',\n",
       "   '步驟4.將蛋捲起來',\n",
       "   '步驟5.全部捲完之後.在往外推..（只要記的.靠把手的是裡面.全部捲完後一定是往外推.這樣才會好捲.）',\n",
       "   '步驟6.再倒入少許的蛋液.蛋液不要太厚..這樣才不會外面一下就焦黑了.右邊蛋的下面也要讓蛋液流進去才行喔..用筷子輕輕抬起來..讓蛋液也留過去.，一樣到圖片這樣的狀態時就可以把蛋捲起來了',\n",
       "   '步驟7.再將蛋也是從外面往裡面（靠把手的地方）捲進來',\n",
       "   '步驟8.捲完之後.還是一樣往外推.',\n",
       "   '步驟9.直到把整個蛋液用完為止.',\n",
       "   '步驟10.最後在放到竹簾上捲起來.兩端用橡皮筋捆起來就好.，等到放涼之後才會好切喔',\n",
       "   '步驟11.放在便當裡',\n",
       "   '步驟12.★因為有太白粉.所以每次蛋液在倒入的時候.一定要再攪拌一下才行.，★如果鍋子的溫度太高的時候.就可以放到濕抹布上面讓它稍為冷卻一下就好.，★在煎蛋的時候.溫度用中小火偏小火就可以了'],\n",
       "  'stepUrl': ['https://imageproxy.icook.network/resize?height=600&nocrop=false&stripmeta=true&type=auto&url=http%3A%2F%2Ftokyo-kitchen.icook.tw.s3.amazonaws.com%2Fuploads%2Fstep%2Fcover%2F437976%2Fa15a60b2099bb368.jpg&width=800',\n",
       "   'https://imageproxy.icook.network/resize?height=600&nocrop=false&stripmeta=true&type=auto&url=http%3A%2F%2Ftokyo-kitchen.icook.tw.s3.amazonaws.com%2Fuploads%2Fstep%2Fcover%2F437978%2F9bd3c4a47dadbe2c.jpg&width=800',\n",
       "   'https://imageproxy.icook.network/resize?height=600&nocrop=false&stripmeta=true&type=auto&url=http%3A%2F%2Ftokyo-kitchen.icook.tw.s3.amazonaws.com%2Fuploads%2Fstep%2Fcover%2F437979%2F5f7195ed3414ad70.jpg&width=800',\n",
       "   'https://imageproxy.icook.network/resize?height=600&nocrop=false&stripmeta=true&type=auto&url=http%3A%2F%2Ftokyo-kitchen.icook.tw.s3.amazonaws.com%2Fuploads%2Fstep%2Fcover%2F437980%2F96c50614485d7910.jpg&width=800',\n",
       "   'https://imageproxy.icook.network/resize?height=600&nocrop=false&stripmeta=true&type=auto&url=http%3A%2F%2Ftokyo-kitchen.icook.tw.s3.amazonaws.com%2Fuploads%2Fstep%2Fcover%2F437981%2F05cc181a16ddcc84.jpg&width=800',\n",
       "   'https://imageproxy.icook.network/resize?height=600&nocrop=false&stripmeta=true&type=auto&url=http%3A%2F%2Ftokyo-kitchen.icook.tw.s3.amazonaws.com%2Fuploads%2Fstep%2Fcover%2F437982%2Fc1900ebb5efca672.jpg&width=800',\n",
       "   'https://imageproxy.icook.network/resize?height=600&nocrop=false&stripmeta=true&type=auto&url=http%3A%2F%2Ftokyo-kitchen.icook.tw.s3.amazonaws.com%2Fuploads%2Fstep%2Fcover%2F437983%2F6bb5404016f7e0bf.jpg&width=800',\n",
       "   'https://imageproxy.icook.network/resize?height=600&nocrop=false&stripmeta=true&type=auto&url=http%3A%2F%2Ftokyo-kitchen.icook.tw.s3.amazonaws.com%2Fuploads%2Fstep%2Fcover%2F437985%2F6e36df8bf543c3a5.jpg&width=800',\n",
       "   'https://imageproxy.icook.network/resize?height=600&nocrop=false&stripmeta=true&type=auto&url=http%3A%2F%2Ftokyo-kitchen.icook.tw.s3.amazonaws.com%2Fuploads%2Fstep%2Fcover%2F437986%2F16d35a439fb6c38a.jpg&width=800',\n",
       "   'https://imageproxy.icook.network/resize?height=600&nocrop=false&stripmeta=true&type=auto&url=http%3A%2F%2Ftokyo-kitchen.icook.tw.s3.amazonaws.com%2Fuploads%2Fstep%2Fcover%2F437987%2F23d98df7075ecfa3.jpg&width=800',\n",
       "   'https://imageproxy.icook.network/resize?height=600&nocrop=false&stripmeta=true&type=auto&url=http%3A%2F%2Ftokyo-kitchen.icook.tw.s3.amazonaws.com%2Fuploads%2Fstep%2Fcover%2F437989%2F5ea781cf940c1326.jpg&width=800',\n",
       "   '']},\n",
       " 'newItem': [['蛋', '2顆'],\n",
       "  ['水', '50ml'],\n",
       "  ['味霖', '1大匙'],\n",
       "  ['鰹魚粉', '1小匙'],\n",
       "  ['太白粉', '2小匙']],\n",
       " 'ingredient': [['雞蛋', '2顆'], ['太白粉', '2小匙']],\n",
       " 'seasoning': [['水', '50ml'], ['味醂', '1大匙'], ['鰹魚粉', '1小匙']],\n",
       " 'ing_dict': {'雞蛋': '2顆', '太白粉': '2小匙'},\n",
       " 'season_dict': {'水': '50ml', '味醂': '1大匙', '鰹魚粉': '1小匙'}}"
      ]
     },
     "execution_count": 5,
     "metadata": {},
     "output_type": "execute_result"
    }
   ],
   "source": [
    "# 新的樣貌\n",
    "content[0]"
   ]
  },
  {
   "cell_type": "code",
   "execution_count": null,
   "metadata": {},
   "outputs": [],
   "source": [
    "# like存的值測試\n",
    "import re\n",
    "pattern = r'.*[0-9.,]+'\n",
    "count = 0\n",
    "count_int = 0\n",
    "count_str_int = 0\n",
    "for k in content:\n",
    "    text = str(k['like'])  \n",
    "    if text is None:\n",
    "        print(k['recipe'],k['like'])\n",
    "    elif '留言' in text:\n",
    "        print(k['recipe'],text.strip(),type(k['like']))\n",
    "    elif isinstance(k['like'],int):\n",
    "#         print(k['recipe'],k['like'])\n",
    "        count_int += 1\n",
    "    elif not re.match(pattern,text):\n",
    "        print('not match',k['recipe'],k['like'],type(k['like']))\n",
    "        count_str_int += 1\n",
    "    count += 1\n",
    "print(f'check recipe of {count}.')\n",
    "print(f'{count_int} is numeric.')\n",
    "print(f'{count_str_int} is not matched.')"
   ]
  },
  {
   "cell_type": "code",
   "execution_count": 6,
   "metadata": {},
   "outputs": [],
   "source": [
    "from collections import Counter\n",
    "c = Counter()\n",
    "for k in content:\n",
    "    c.update([k['quantity']])"
   ]
  },
  {
   "cell_type": "code",
   "execution_count": 7,
   "metadata": {},
   "outputs": [
    {
     "data": {
      "text/plain": [
       "Counter({1: 84824,\n",
       "         2: 27029,\n",
       "         4: 22517,\n",
       "         5: 7852,\n",
       "         6: 6013,\n",
       "         3: 23454,\n",
       "         8: 2520,\n",
       "         10: 3858,\n",
       "         9: 766,\n",
       "         7: 930})"
      ]
     },
     "execution_count": 7,
     "metadata": {},
     "output_type": "execute_result"
    }
   ],
   "source": [
    "c"
   ]
  },
  {
   "cell_type": "code",
   "execution_count": 8,
   "metadata": {},
   "outputs": [],
   "source": [
    "tags_c = Counter()\n",
    "for k in content:\n",
    "    tags_c.update(k['tags'])"
   ]
  },
  {
   "cell_type": "code",
   "execution_count": 9,
   "metadata": {
    "scrolled": false
   },
   "outputs": [
    {
     "data": {
      "text/plain": [
       "65282"
      ]
     },
     "execution_count": 9,
     "metadata": {},
     "output_type": "execute_result"
    }
   ],
   "source": [
    "len(tags_c.keys())"
   ]
  },
  {
   "cell_type": "code",
   "execution_count": 10,
   "metadata": {},
   "outputs": [
    {
     "data": {
      "text/plain": [
       "[('海鮮', 5511),\n",
       " ('雞肉', 4714),\n",
       " ('湯', 4656),\n",
       " ('蛋糕', 4629),\n",
       " ('豬肉', 4418),\n",
       " ('蛋', 4346),\n",
       " ('根莖', 4076),\n",
       " ('米食', 3949),\n",
       " ('手作麵包', 3219),\n",
       " ('瓜果', 2594)]"
      ]
     },
     "execution_count": 10,
     "metadata": {},
     "output_type": "execute_result"
    }
   ],
   "source": [
    "tags_c.most_common(10)"
   ]
  },
  {
   "cell_type": "code",
   "execution_count": 11,
   "metadata": {},
   "outputs": [],
   "source": [
    "from collections import defaultdict\n",
    "tags_ck = defaultdict(lambda: 0)\n",
    "for i,j in tags_c.items():\n",
    "    if j <= 10:\n",
    "        tags_ck['<=10'] += 1\n",
    "    elif j <= 100:\n",
    "        tags_ck['11-100'] += 1\n",
    "    elif j <=500:\n",
    "        tags_ck['101-500'] += 1\n",
    "    elif j <= 1000:\n",
    "        tags_ck['501-1000'] += 1\n",
    "    elif j <= 5000:\n",
    "        tags_ck['1001-5000'] += 1\n",
    "    else:\n",
    "        tags_ck[f'{j}'] += 1"
   ]
  },
  {
   "cell_type": "code",
   "execution_count": 12,
   "metadata": {},
   "outputs": [
    {
     "data": {
      "text/plain": [
       "defaultdict(<function __main__.<lambda>()>,\n",
       "            {'<=10': 54291,\n",
       "             '101-500': 645,\n",
       "             '11-100': 10247,\n",
       "             '1001-5000': 47,\n",
       "             '501-1000': 51,\n",
       "             '5511': 1})"
      ]
     },
     "execution_count": 12,
     "metadata": {},
     "output_type": "execute_result"
    }
   ],
   "source": [
    "'''一共有65282種tag,每種tag出現頻率，可看出大部分為10次以下，'''\n",
    "tags_ck"
   ]
  },
  {
   "cell_type": "code",
   "execution_count": 13,
   "metadata": {},
   "outputs": [],
   "source": [
    "with open(r'C:\\Users\\Big data\\PycharmProjects\\collaborative_filtering\\dataset\\recipe1014_V6.json','w')as f:\n",
    "    f.write(json.dumps(content))"
   ]
  },
  {
   "cell_type": "code",
   "execution_count": null,
   "metadata": {},
   "outputs": [],
   "source": []
  },
  {
   "cell_type": "code",
   "execution_count": null,
   "metadata": {},
   "outputs": [],
   "source": []
  },
  {
   "cell_type": "code",
   "execution_count": null,
   "metadata": {},
   "outputs": [],
   "source": []
  }
 ],
 "metadata": {
  "kernelspec": {
   "display_name": "Python 3",
   "language": "python",
   "name": "python3"
  },
  "language_info": {
   "codemirror_mode": {
    "name": "ipython",
    "version": 3
   },
   "file_extension": ".py",
   "mimetype": "text/x-python",
   "name": "python",
   "nbconvert_exporter": "python",
   "pygments_lexer": "ipython3",
   "version": "3.7.9"
  }
 },
 "nbformat": 4,
 "nbformat_minor": 4
}
