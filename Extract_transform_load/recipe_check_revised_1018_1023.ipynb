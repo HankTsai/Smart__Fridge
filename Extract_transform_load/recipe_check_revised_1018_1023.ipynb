{
 "cells": [
  {
   "cell_type": "code",
   "execution_count": 1,
   "metadata": {},
   "outputs": [],
   "source": [
    "import json"
   ]
  },
  {
   "cell_type": "code",
   "execution_count": 2,
   "metadata": {},
   "outputs": [],
   "source": [
    "with open('./dataset/recipe1023_V9.json','r')as f:\n",
    "    content = json.load(f)"
   ]
  },
  {
   "cell_type": "code",
   "execution_count": 29,
   "metadata": {
    "collapsed": true
   },
   "outputs": [
    {
     "data": {
      "text/plain": [
       "{'_id': 10700,\n",
       " 'recipe': '咖哩馬鈴薯條可果美咖哩醬',\n",
       " 'tags': ['馬鈴薯薯條', '咖哩馬鈴薯', '馬鈴薯條', '薯條醬'],\n",
       " 'url': 'https://icook.tw/recipes/117860',\n",
       " 'like': 83,\n",
       " 'time': '30分鐘',\n",
       " 'image': 'https://imageproxy.icook.network/resize?height=600&nocrop=false&stripmeta=true&type=auto&url=http%3A%2F%2Ftokyo-kitchen.icook.tw.s3.amazonaws.com%2Fuploads%2Frecipe%2Fcover%2F117860%2F78663b2495e7e1e5.jpg&width=800',\n",
       " 'quantity': 1,\n",
       " 'item': [['馬鈴薯', '3顆'],\n",
       "  ['可果美咖哩醬(南洋)', '1大匙'],\n",
       "  ['橄欖油', '1大匙'],\n",
       "  ['水', '20C.C'],\n",
       "  ['黃砂糖', '1/2大匙'],\n",
       "  ['檸檬汁', '1大匙'],\n",
       "  ['魚露', '1大匙'],\n",
       "  ['可果美咖哩醬(南洋)', '1大匙'],\n",
       "  ['蒜末', '2瓣']],\n",
       " 'step': {'content': ['步驟1.準備食材。馬鈴薯洗淨去皮，削成1cm左右的手指長條狀。蒜頭切成蒜末。',\n",
       "   '步驟2.馬鈴薯，先泡鹽水去除澱粉質(左圖)。馬鈴薯，瀝乾去除水份(右圖)。',\n",
       "   '步驟3.馬鈴薯，淋上一大匙可果美咖哩醬(南洋)和一大匙橄欖油，攪拌均勻(左圖)。馬鈴薯，平舖於烤盤上，放入已預熱200度C的烤箱內，烤約10分鐘，拿出來，將馬鈴薯翻面，再放入烤箱內烤10分鐘，烤到表面略呈焦黃色即可。',\n",
       "   '步驟4.調製醬汁，溫水20c.c與黃砂糖1/2大匙調溶，加入魚露1大匙、檸檬汁1大匙、可果美咖哩醬(南洋)1大匙、蒜末，調勻即可。',\n",
       "   '步驟5.烤好的馬鈴薯，趁熱沾著咖哩醬汁吃，酸酸甜甜很好吃。'],\n",
       "  'stepUrl': ['https://imageproxy.icook.network/resize?height=600&nocrop=false&stripmeta=true&type=auto&url=http%3A%2F%2Ftokyo-kitchen.icook.tw.s3.amazonaws.com%2Fuploads%2Fstep%2Fcover%2F538908%2F25a9f86528beb173.jpg&width=800',\n",
       "   'https://imageproxy.icook.network/resize?height=600&nocrop=false&stripmeta=true&type=auto&url=http%3A%2F%2Ftokyo-kitchen.icook.tw.s3.amazonaws.com%2Fuploads%2Fstep%2Fcover%2F538910%2Fd35e3733a1818f2e.jpg&width=800',\n",
       "   'https://imageproxy.icook.network/resize?height=600&nocrop=false&stripmeta=true&type=auto&url=http%3A%2F%2Ftokyo-kitchen.icook.tw.s3.amazonaws.com%2Fuploads%2Fstep%2Fcover%2F538912%2Ff3daef170f7b1850.jpg&width=800',\n",
       "   'https://imageproxy.icook.network/resize?height=600&nocrop=false&stripmeta=true&type=auto&url=http%3A%2F%2Ftokyo-kitchen.icook.tw.s3.amazonaws.com%2Fuploads%2Fstep%2Fcover%2F538913%2Fb1b1421d92b03c00.jpg&width=800',\n",
       "   'https://imageproxy.icook.network/resize?height=600&nocrop=false&stripmeta=true&type=auto&url=http%3A%2F%2Ftokyo-kitchen.icook.tw.s3.amazonaws.com%2Fuploads%2Fstep%2Fcover%2F538914%2Fc0c1a83b58c856a0.jpg&width=800']},\n",
       " 'newItem': [['馬鈴薯', '3顆'],\n",
       "  ['咖哩醬', '1大匙'],\n",
       "  ['橄欖油', '1大匙'],\n",
       "  ['水', '20C.C'],\n",
       "  ['砂糖', '1/2大匙'],\n",
       "  ['檸檬', '1大匙'],\n",
       "  ['魚露', '1大匙'],\n",
       "  ['咖哩醬', '1大匙'],\n",
       "  ['蒜', '2瓣']],\n",
       " 'ingredient': [['馬鈴薯', 250, 'gram'],\n",
       "  ['黃咖哩', 70, 'gram'],\n",
       "  ['檸檬', 80, 'gram'],\n",
       "  ['大蒜', 40, 'gram']],\n",
       " 'seasoning': [['植物油', 40, 'gram'],\n",
       "  ['水', 20, 'ml'],\n",
       "  ['砂糖', 60, 'gram'],\n",
       "  ['魚露', 50, 'ml']],\n",
       " 'ing_dict': {'馬鈴薯': '3顆', '黃咖哩': '1大匙', '檸檬': '1大匙', '大蒜': '2瓣'},\n",
       " 'season_dict': {'植物油': '1大匙', '水': '20C.C', '砂糖': '1/2大匙', '魚露': '1大匙'},\n",
       " 'cluster': 'cluster4'}"
      ]
     },
     "execution_count": 29,
     "metadata": {},
     "output_type": "execute_result"
    }
   ],
   "source": [
    "content[10700]"
   ]
  },
  {
   "cell_type": "code",
   "execution_count": null,
   "metadata": {},
   "outputs": [],
   "source": [
    "# 10/18 美奶滋分類錯誤更正\n",
    "count=0\n",
    "name = []\n",
    "for k in content:\n",
    "    if '美乃茲' in  set(k['ing_dict'].keys()):\n",
    "        name.append(k['recipe'])\n",
    "        count +=1\n",
    "        \n",
    "        for i in k['ingredient']:\n",
    "            if i[0] == '美乃茲':\n",
    "                v = i\n",
    "                k['ingredient'].remove(i)\n",
    "                break\n",
    "        \n",
    "        k['seasoning'].append(['美乃滋']+v[1:])\n",
    "        k['season_dict']['美乃滋']=k['ing_dict']['美乃茲']\n",
    "        del k['ing_dict']['美乃茲']"
   ]
  },
  {
   "cell_type": "code",
   "execution_count": 11,
   "metadata": {},
   "outputs": [
    {
     "name": "stdout",
     "output_type": "stream",
     "text": [
      "179763 0 179763\n"
     ]
    }
   ],
   "source": [
    "# 10/23 like值有誤更正\n",
    "num = 0\n",
    "snum = 0\n",
    "for k in content:\n",
    "    if isinstance(k[\"like\"],int):\n",
    "        num += 1\n",
    "    elif isinstance(k[\"like\"],str):\n",
    "        snum += 1\n",
    "        k[\"like\"] = int(k['like'].strip())\n",
    "print(num,snum,num+snum)"
   ]
  },
  {
   "cell_type": "code",
   "execution_count": 25,
   "metadata": {},
   "outputs": [
    {
     "name": "stdout",
     "output_type": "stream",
     "text": [
      "check time format of total 179763.\n",
      "0 unknown\n",
      "0 error,0 inside, 0 up\n",
      "179763 normal check\n",
      "mean time used: 33.554107352458516\n"
     ]
    }
   ],
   "source": [
    "#10/23 time 修正\n",
    "count = 0\n",
    "time_count = 0\n",
    "time_sum = 0\n",
    "time_unknown = 0\n",
    "time_error = 0\n",
    "time_inside = 0\n",
    "time_up = 0\n",
    "for k in content:\n",
    "    # print(k[\"time\"])\n",
    "    count+=1\n",
    "    if k[\"time\"] == \"unknown\":\n",
    "        k[\"time\"] = \"30分鐘\"\n",
    "        time_unknown += 1\n",
    "    elif k[\"time\"][-2:] == \"分鐘\":\n",
    "        time_sum += int(k[\"time\"][:-2])\n",
    "        time_count +=1\n",
    "    elif k['time'][-1] == \"內\":\n",
    "        k['time'] = k[\"time\"][:-1]\n",
    "        time_inside += 1\n",
    "    elif k[\"time\"][-2:] == \"以上\":\n",
    "        k[\"time\"] = k[\"time\"][:-2]\n",
    "        time_up += 1\n",
    "    elif k[\"time\"][-2:] == \"小時\":\n",
    "        k[\"time\"] = str(int(k[\"time\"][0])*60) + \"分鐘\" \n",
    "    else:\n",
    "        time_error += 1\n",
    "        print(k['time'])\n",
    "\n",
    "print(f\"check time format of total {count}.\")\n",
    "print(f\"{time_unknown} unknown\")\n",
    "print(f\"{time_error} error,{time_inside} inside, {time_up} up\")\n",
    "print(f\"{time_count} normal check\")\n",
    "print(f\"mean time used: {time_sum / time_count}\")"
   ]
  },
  {
   "cell_type": "code",
   "execution_count": 19,
   "metadata": {},
   "outputs": [
    {
     "name": "stdout",
     "output_type": "stream",
     "text": [
      "0 is null\n",
      "19323 is null\n",
      "0 is both null\n"
     ]
    }
   ],
   "source": [
    "# 10/23 食材空值確認\n",
    "ing_null = 0\n",
    "sea_null = 0\n",
    "both_null = 0\n",
    "null_set = set()\n",
    "for k in content:\n",
    "    if not k[\"ingredient\"]:\n",
    "        null_set.add(k['_id'])\n",
    "        ing_null += 1\n",
    "    if not k[\"seasoning\"]:\n",
    "        sea_null += 1\n",
    "        if k[\"_id\"] in null_set:\n",
    "            both_null += 1\n",
    "\n",
    "print(f\"{ing_null} is null\")\n",
    "print(f\"{sea_null} is null\")\n",
    "print(f\"{both_null} is both null\")"
   ]
  },
  {
   "cell_type": "code",
   "execution_count": 15,
   "metadata": {},
   "outputs": [],
   "source": [
    "# 刪除食譜\n",
    "for i in sorted(null_set,reverse=True):\n",
    "    content.pop(i)"
   ]
  },
  {
   "cell_type": "code",
   "execution_count": 17,
   "metadata": {},
   "outputs": [],
   "source": [
    "for idx, k in enumerate(content):\n",
    "    k[\"_id\"] = idx"
   ]
  },
  {
   "cell_type": "code",
   "execution_count": 26,
   "metadata": {},
   "outputs": [
    {
     "name": "stdout",
     "output_type": "stream",
     "text": [
      "https://imageproxy.icook.network/resize?height=600&nocrop=false&stripmeta=true&type=auto&url=http%3A%2F%2Ftokyo-kitchen.icook.tw.s3.amazonaws.com%2Fuploads%2Frecipe%2Fcover%2F99001%2F7894a541b7bcc225.jpg&width=800\n",
      "https://imageproxy.icook.network/resize?height=600&nocrop=false&stripmeta=true&type=auto&url=http%3A%2F%2Ftokyo-kitchen.icook.tw.s3.amazonaws.com%2Fuploads%2Frecipe%2Fcover%2F99004%2F12cd6f5bc1ab00ab.jpg&width=800\n",
      "https://imageproxy.icook.network/resize?height=600&nocrop=false&stripmeta=true&type=auto&url=http%3A%2F%2Ftokyo-kitchen.icook.tw.s3.amazonaws.com%2Fuploads%2Frecipe%2Fcover%2F99005%2Fc0c06b72fe7d8468.jpg&width=800\n",
      "https://imageproxy.icook.network/resize?height=600&nocrop=false&stripmeta=true&type=auto&url=http%3A%2F%2Ftokyo-kitchen.icook.tw.s3.amazonaws.com%2Fuploads%2Frecipe%2Fcover%2F99007%2Fcc57ca9a8e813801.jpg&width=800\n",
      "https://imageproxy.icook.network/resize?height=600&nocrop=false&stripmeta=true&type=auto&url=http%3A%2F%2Ftokyo-kitchen.icook.tw.s3.amazonaws.com%2Fuploads%2Frecipe%2Fcover%2F99008%2F25a21788039c4b35.jpg&width=800\n",
      "https://imageproxy.icook.network/resize?height=600&nocrop=false&stripmeta=true&type=auto&url=http%3A%2F%2Ftokyo-kitchen.icook.tw.s3.amazonaws.com%2Fuploads%2Frecipe%2Fcover%2F99009%2F978a78c1b834c834.jpg&width=800\n",
      "https://imageproxy.icook.network/resize?height=600&nocrop=false&stripmeta=true&type=auto&url=http%3A%2F%2Ftokyo-kitchen.icook.tw.s3.amazonaws.com%2Fuploads%2Frecipe%2Fcover%2F99011%2Fd530a0a12c727b61.jpg&width=800\n",
      "https://imageproxy.icook.network/resize?height=600&nocrop=false&stripmeta=true&type=auto&url=http%3A%2F%2Ftokyo-kitchen.icook.tw.s3.amazonaws.com%2Fuploads%2Frecipe%2Fcover%2F99012%2F13312b335f20a3df.jpg&width=800\n",
      "https://imageproxy.icook.network/resize?height=600&nocrop=false&stripmeta=true&type=auto&url=http%3A%2F%2Ftokyo-kitchen.icook.tw.s3.amazonaws.com%2Fuploads%2Frecipe%2Fcover%2F99013%2Fdcfda96e69c3004d.jpg&width=800\n",
      "https://imageproxy.icook.network/resize?height=600&nocrop=false&stripmeta=true&type=auto&url=http%3A%2F%2Ftokyo-kitchen.icook.tw.s3.amazonaws.com%2Fuploads%2Frecipe%2Fcover%2F99014%2F7979c71aeac76fcf.jpg&width=800\n"
     ]
    }
   ],
   "source": [
    "# image url ck\n",
    "for k in content[:10]:\n",
    "    image = k[\"image\"]\n",
    "    print(image)"
   ]
  },
  {
   "cell_type": "code",
   "execution_count": 12,
   "metadata": {},
   "outputs": [
    {
     "name": "stdout",
     "output_type": "stream",
     "text": [
      "check recipe of 179763.\n",
      "179763 is numeric.\n",
      "0 is not matched.\n"
     ]
    }
   ],
   "source": [
    "# like存的值測試\n",
    "import re\n",
    "pattern = r'.*[0-9.,]+'\n",
    "count = 0\n",
    "count_int = 0\n",
    "count_str_int = 0\n",
    "for k in content:\n",
    "    text = str(k['like'])  \n",
    "    if text is None:\n",
    "        print(k['recipe'],k['like'])\n",
    "    elif '留言' in text:\n",
    "        print(k['recipe'],text.strip(),type(k['like']))\n",
    "    elif isinstance(k['like'],int):\n",
    "#         print(k['recipe'],k['like'])\n",
    "        count_int += 1\n",
    "    elif not re.match(pattern,text):\n",
    "        print('not match',k['recipe'],k['like'],type(k['like']))\n",
    "        count_str_int += 1\n",
    "    elif '.' in k['like']:\n",
    "        print(\". exist.\")\n",
    "    elif ',' in k['like']:\n",
    "        print(\", exist.\")\n",
    "    \n",
    "    count += 1\n",
    "print(f'check recipe of {count}.')\n",
    "print(f'{count_int} is numeric.')\n",
    "print(f'{count_str_int} is not matched.')"
   ]
  },
  {
   "cell_type": "code",
   "execution_count": null,
   "metadata": {},
   "outputs": [],
   "source": [
    "for k in content:\n",
    "    if k['recipe'] in set(name):\n",
    "        print(k['recipe'])\n",
    "        print(k['ingredient'])\n",
    "        print(k['seasoning'])"
   ]
  },
  {
   "cell_type": "code",
   "execution_count": null,
   "metadata": {},
   "outputs": [],
   "source": [
    "for k in content:\n",
    "    if k['recipe'] in set(name):\n",
    "        print(k['recipe'],k['ingredient'],k['seasoning'])"
   ]
  },
  {
   "cell_type": "code",
   "execution_count": null,
   "metadata": {},
   "outputs": [],
   "source": [
    "for k in content:\n",
    "    if k['recipe'] in set(name):\n",
    "        print(k['recipe'],k['ing_dict'],k['season_dict'])"
   ]
  },
  {
   "cell_type": "code",
   "execution_count": 21,
   "metadata": {},
   "outputs": [],
   "source": [
    "with open(r'C:\\Users\\Big data\\PycharmProjects\\collaborative_filtering\\dataset\\recipe1023_V9.json','w')as f:\n",
    "    f.write(json.dumps(content))"
   ]
  },
  {
   "cell_type": "code",
   "execution_count": 20,
   "metadata": {},
   "outputs": [
    {
     "data": {
      "text/plain": [
       "179412"
      ]
     },
     "execution_count": 20,
     "metadata": {},
     "output_type": "execute_result"
    }
   ],
   "source": [
    "len(content)"
   ]
  },
  {
   "cell_type": "code",
   "execution_count": null,
   "metadata": {},
   "outputs": [],
   "source": []
  }
 ],
 "metadata": {
  "kernelspec": {
   "display_name": "Python 3",
   "language": "python",
   "name": "python3"
  },
  "language_info": {
   "codemirror_mode": {
    "name": "ipython",
    "version": 3
   },
   "file_extension": ".py",
   "mimetype": "text/x-python",
   "name": "python",
   "nbconvert_exporter": "python",
   "pygments_lexer": "ipython3",
   "version": "3.7.9"
  }
 },
 "nbformat": 4,
 "nbformat_minor": 4
}
