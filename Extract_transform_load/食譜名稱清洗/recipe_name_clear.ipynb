{
 "cells": [
  {
   "cell_type": "code",
   "execution_count": 2,
   "metadata": {},
   "outputs": [
    {
     "name": "stdout",
     "output_type": "stream",
     "text": [
      "Collecting googletrans\n",
      "  Downloading googletrans-3.0.0.tar.gz (17 kB)\n",
      "Collecting httpx==0.13.3\n",
      "  Downloading httpx-0.13.3-py3-none-any.whl (55 kB)\n",
      "Requirement already satisfied: chardet==3.* in c:\\users\\big data\\anaconda3\\envs\\word2vec_try\\lib\\site-packages (from httpx==0.13.3->googletrans) (3.0.4)\n",
      "Requirement already satisfied: certifi in c:\\users\\big data\\anaconda3\\envs\\word2vec_try\\lib\\site-packages (from httpx==0.13.3->googletrans) (2020.6.20)\n",
      "Collecting hstspreload\n",
      "  Downloading hstspreload-2020.9.23-py3-none-any.whl (959 kB)\n",
      "Collecting rfc3986<2,>=1.3\n",
      "  Downloading rfc3986-1.4.0-py2.py3-none-any.whl (31 kB)\n",
      "Requirement already satisfied: idna==2.* in c:\\users\\big data\\anaconda3\\envs\\word2vec_try\\lib\\site-packages (from httpx==0.13.3->googletrans) (2.10)\n",
      "Collecting sniffio\n",
      "  Downloading sniffio-1.1.0-py3-none-any.whl (4.5 kB)\n",
      "Collecting httpcore==0.9.*\n",
      "  Downloading httpcore-0.9.1-py3-none-any.whl (42 kB)\n",
      "Collecting h11<0.10,>=0.8\n",
      "  Downloading h11-0.9.0-py2.py3-none-any.whl (53 kB)\n",
      "Collecting h2==3.*\n",
      "  Downloading h2-3.2.0-py2.py3-none-any.whl (65 kB)\n",
      "Collecting hyperframe<6,>=5.2.0\n",
      "  Downloading hyperframe-5.2.0-py2.py3-none-any.whl (12 kB)\n",
      "Collecting hpack<4,>=3.0\n",
      "  Downloading hpack-3.0.0-py2.py3-none-any.whl (38 kB)\n",
      "Building wheels for collected packages: googletrans\n",
      "  Building wheel for googletrans (setup.py): started\n",
      "  Building wheel for googletrans (setup.py): finished with status 'done'\n",
      "  Created wheel for googletrans: filename=googletrans-3.0.0-py3-none-any.whl size=15739 sha256=06171282038af44382cbbbde6b07f05c4383095eb3f2cf29958b34befcb17aaf\n",
      "  Stored in directory: c:\\users\\big data\\appdata\\local\\pip\\cache\\wheels\\20\\da\\eb\\a54579056f265eede0417df537dd56d3df5b9eb2b25df0003d\n",
      "Successfully built googletrans\n",
      "Installing collected packages: hstspreload, rfc3986, sniffio, h11, hyperframe, hpack, h2, httpcore, httpx, googletrans\n",
      "Successfully installed googletrans-3.0.0 h11-0.9.0 h2-3.2.0 hpack-3.0.0 hstspreload-2020.9.23 httpcore-0.9.1 httpx-0.13.3 hyperframe-5.2.0 rfc3986-1.4.0 sniffio-1.1.0\n"
     ]
    }
   ],
   "source": [
    "!pip install googletrans"
   ]
  },
  {
   "cell_type": "code",
   "execution_count": 49,
   "metadata": {},
   "outputs": [],
   "source": [
    "import time\n",
    "import re\n",
    "import json\n",
    "import random\n",
    "import googletrans\n",
    "from pprint import pprint\n",
    "translator = googletrans.Translator()"
   ]
  },
  {
   "cell_type": "code",
   "execution_count": null,
   "metadata": {},
   "outputs": [],
   "source": [
    "def mongo_connect_build():\n",
    "    global mycol\n",
    "    client = pymongo.MongoClient(host=\"192.168.1.107\", port=27017)\n",
    "    db = client['test11111111111111111']\n",
    "    mycol = db[\"original-recipe\"]"
   ]
  },
  {
   "cell_type": "code",
   "execution_count": null,
   "metadata": {},
   "outputs": [],
   "source": [
    "def load_data():\n",
    "    mongo_connect_build()\n",
    "    all = mycol.find()\n",
    "    test = list(all)\n",
    "\n",
    "    with open(\"test.json\",'w')as f:\n",
    "        try:\n",
    "            js = json.dumps(test,default=json_util.default)\n",
    "        except Exception as e:\n",
    "            print(e)\n",
    "            pass\n",
    "        finally:\n",
    "            f.write(js)"
   ]
  },
  {
   "cell_type": "code",
   "execution_count": 4,
   "metadata": {},
   "outputs": [],
   "source": [
    "def symbol_clear(data):\n",
    "    pat = re.compile(r\"[a-zA-Z]+|[\\u4e00-\\u9fa5]+\")\n",
    "    clear_data = re.findall(pat,data)\n",
    "    return clear_data"
   ]
  },
  {
   "cell_type": "code",
   "execution_count": 5,
   "metadata": {},
   "outputs": [],
   "source": [
    "def eng_translate(data):\n",
    "    eng_id = [];\n",
    "    if data:\n",
    "        for idx,para_name in enumerate(data):\n",
    "            if re.search(r\"[a-z]+\",para_name):\n",
    "                eng = translator.translate(para_name,dest='zh-tw')\n",
    "                data[idx] = eng.text\n",
    "                eng_id.append(idx)\n",
    "        for idx,item in enumerate(eng_id):\n",
    "            if eng_id[idx] != 0:\n",
    "                if eng_id[idx]-eng_id[idx-1] != 1: \n",
    "                    continue\n",
    "                data[item-1]  =  data[item-1] + data[item]\n",
    "        return data\n",
    "    else: \n",
    "        return '' "
   ]
  },
  {
   "cell_type": "code",
   "execution_count": 6,
   "metadata": {
    "scrolled": true
   },
   "outputs": [],
   "source": [
    "def word_clear(data,special_word):\n",
    "    if data:\n",
    "        for idx,para in enumerate(data):\n",
    "            for word in special_word:\n",
    "                para = re.sub(word,'',para) \n",
    "                data[idx] = para\n",
    "            data[idx] = re.sub('[a-zA-Z]+','',para)\n",
    "            if len(data[idx])<=2 :    \n",
    "                data[idx] = ''\n",
    "        return ''.join(data)\n",
    "    else: \n",
    "        return ''"
   ]
  },
  {
   "cell_type": "code",
   "execution_count": 17,
   "metadata": {
    "scrolled": true
   },
   "outputs": [],
   "source": [
    "with open('./foodBank/total_recipe_0924_ingredient_cleaned.json','r',encoding=\"utf-8\") as f:\n",
    "    total = json.loads(f.read())\n",
    "with open('special_word.txt','r',encoding=\"utf-8\") as f:\n",
    "    special_word = f.read().split()"
   ]
  },
  {
   "cell_type": "code",
   "execution_count": 62,
   "metadata": {},
   "outputs": [],
   "source": [
    "def main():\n",
    "    global new_data\n",
    "    new_data = []\n",
    "    try:\n",
    "        for idx, item in enumerate(total):\n",
    "            data = symbol_clear(item['recipe'])\n",
    "            data = eng_translate(data)\n",
    "            data = word_clear(data,special_word)\n",
    "            #data = word_clear(data,special_word_dict)\n",
    "            if data != '': \n",
    "                item['recipe'] = data\n",
    "                new_data.append(item)\n",
    "\n",
    "            \n",
    "            if idx % 5000 == 0:\n",
    "                print(f'\\r Data completed: {idx}',end='')\n",
    "    except Exception as e: \n",
    "        pass\n",
    "        print(e)\n",
    "    finally:\n",
    "        print('\\n')\n",
    "        print('lose ratio: {}'.format(round(len(new_data)/len(total),3)))\n",
    "        # print(recipe)"
   ]
  },
  {
   "cell_type": "code",
   "execution_count": 63,
   "metadata": {},
   "outputs": [
    {
     "name": "stdout",
     "output_type": "stream",
     "text": [
      " Data completed: 240000\n",
      "\n",
      "lose ratio: 0.982\n",
      "\n",
      "Updating completed!\n",
      "Time used: 3368.238127708435\n"
     ]
    }
   ],
   "source": [
    "if __name__ == '__main__':\n",
    "    start_time = time.time()\n",
    "    main()\n",
    "    end_time = time.time()\n",
    "    print('\\nUpdating completed!')\n",
    "    print(f'Time used: {end_time-start_time}')"
   ]
  },
  {
   "cell_type": "code",
   "execution_count": 68,
   "metadata": {},
   "outputs": [
    {
     "name": "stdout",
     "output_type": "stream",
     "text": [
      "{'_id': {'$oid': '5f56036cfafca3ee40f639f1'}, 'recipe': '金黃玉子燒', 'tags': ['玉子焼', '玉子燒', '煎蛋捲'], 'url': 'https://icook.tw/recipes/99001', 'like': '3,800 ', 'time': 'unknown', 'image': 'https://imageproxy.icook.network/resize?height=600&nocrop=false&stripmeta=true&type=auto&url=http%3A%2F%2Ftokyo-kitchen.icook.tw.s3.amazonaws.com%2Fuploads%2Frecipe%2Fcover%2F99001%2F7894a541b7bcc225.jpg&width=800', 'quantity': 0, 'item': [['蛋', '2顆'], ['水', '50ml'], ['味霖', '1大匙'], ['鰹魚粉', '1小匙'], ['太白粉', '2小匙']], 'step': {'content': ['步驟1.將材料全部混合在一起.筷子用站立的方式混合約10來下就好了.，（沙拉油裡再準備個餐巾紙.用來抹在鍋子裡的）', '步驟2.蛋在混合時.用筷子把蛋白拉起夾斷.這個動作..等等再煎的時候.也比較不會一陀蛋白直接滑進鍋子裡.', '步驟3.用餐巾紙沾油之後.抹在鍋子裡後.開中小火.然後倒入薄薄的一層蛋液.然後看到蛋液像圖片中這種狀態時.就可以捲起來了.，（我總共約分3-4次.）', '步驟4.將蛋捲起來', '步驟5.全部捲完之後.在往外推..（只要記的.靠把手的是裡面.全部捲完後一定是往外推.這樣才會好捲.）', '步驟6.再倒入少許的蛋液.蛋液不要太厚..這樣才不會外面一下就焦黑了.右邊蛋的下面也要讓蛋液流進去才行喔..用筷子輕輕抬起來..讓蛋液也留過去.，一樣到圖片這樣的狀態時就可以把蛋捲起來了', '步驟7.再將蛋也是從外面往裡面（靠把手的地方）捲進來', '步驟8.捲完之後.還是一樣往外推.', '步驟9.直到把整個蛋液用完為止.', '步驟10.最後在放到竹簾上捲起來.兩端用橡皮筋捆起來就好.，等到放涼之後才會好切喔', '步驟11.放在便當裡', '步驟12.★因為有太白粉.所以每次蛋液在倒入的時候.一定要再攪拌一下才行.，★如果鍋子的溫度太高的時候.就可以放到濕抹布上面讓它稍為冷卻一下就好.，★在煎蛋的時候.溫度用中小火偏小火就可以了'], 'stepUrl': ['https://imageproxy.icook.network/resize?height=600&nocrop=false&stripmeta=true&type=auto&url=http%3A%2F%2Ftokyo-kitchen.icook.tw.s3.amazonaws.com%2Fuploads%2Fstep%2Fcover%2F437976%2Fa15a60b2099bb368.jpg&width=800', 'https://imageproxy.icook.network/resize?height=600&nocrop=false&stripmeta=true&type=auto&url=http%3A%2F%2Ftokyo-kitchen.icook.tw.s3.amazonaws.com%2Fuploads%2Fstep%2Fcover%2F437978%2F9bd3c4a47dadbe2c.jpg&width=800', 'https://imageproxy.icook.network/resize?height=600&nocrop=false&stripmeta=true&type=auto&url=http%3A%2F%2Ftokyo-kitchen.icook.tw.s3.amazonaws.com%2Fuploads%2Fstep%2Fcover%2F437979%2F5f7195ed3414ad70.jpg&width=800', 'https://imageproxy.icook.network/resize?height=600&nocrop=false&stripmeta=true&type=auto&url=http%3A%2F%2Ftokyo-kitchen.icook.tw.s3.amazonaws.com%2Fuploads%2Fstep%2Fcover%2F437980%2F96c50614485d7910.jpg&width=800', 'https://imageproxy.icook.network/resize?height=600&nocrop=false&stripmeta=true&type=auto&url=http%3A%2F%2Ftokyo-kitchen.icook.tw.s3.amazonaws.com%2Fuploads%2Fstep%2Fcover%2F437981%2F05cc181a16ddcc84.jpg&width=800', 'https://imageproxy.icook.network/resize?height=600&nocrop=false&stripmeta=true&type=auto&url=http%3A%2F%2Ftokyo-kitchen.icook.tw.s3.amazonaws.com%2Fuploads%2Fstep%2Fcover%2F437982%2Fc1900ebb5efca672.jpg&width=800', 'https://imageproxy.icook.network/resize?height=600&nocrop=false&stripmeta=true&type=auto&url=http%3A%2F%2Ftokyo-kitchen.icook.tw.s3.amazonaws.com%2Fuploads%2Fstep%2Fcover%2F437983%2F6bb5404016f7e0bf.jpg&width=800', 'https://imageproxy.icook.network/resize?height=600&nocrop=false&stripmeta=true&type=auto&url=http%3A%2F%2Ftokyo-kitchen.icook.tw.s3.amazonaws.com%2Fuploads%2Fstep%2Fcover%2F437985%2F6e36df8bf543c3a5.jpg&width=800', 'https://imageproxy.icook.network/resize?height=600&nocrop=false&stripmeta=true&type=auto&url=http%3A%2F%2Ftokyo-kitchen.icook.tw.s3.amazonaws.com%2Fuploads%2Fstep%2Fcover%2F437986%2F16d35a439fb6c38a.jpg&width=800', 'https://imageproxy.icook.network/resize?height=600&nocrop=false&stripmeta=true&type=auto&url=http%3A%2F%2Ftokyo-kitchen.icook.tw.s3.amazonaws.com%2Fuploads%2Fstep%2Fcover%2F437987%2F23d98df7075ecfa3.jpg&width=800', 'https://imageproxy.icook.network/resize?height=600&nocrop=false&stripmeta=true&type=auto&url=http%3A%2F%2Ftokyo-kitchen.icook.tw.s3.amazonaws.com%2Fuploads%2Fstep%2Fcover%2F437989%2F5ea781cf940c1326.jpg&width=800', '']}, 'newItem': [['蛋', '2顆'], ['水', '50ml'], ['味霖', '1大匙'], ['鰹魚粉', '1小匙'], ['太白粉', '2小匙']], 'ingredient': [['雞蛋', '2顆'], ['太白粉', '2小匙']], 'seasoning': [['水', '50ml'], ['味醂', '1大匙'], ['鰹魚粉', '1小匙']]}\n",
      "{'_id': {'$oid': '5f56036cfafca3ee40f639f2'}, 'recipe': '草莓棒棒糖', 'tags': ['棒棒糖'], 'url': 'https://icook.tw/recipes/99004', 'like': '121 ', 'time': '20分鐘', 'image': 'https://imageproxy.icook.network/resize?height=600&nocrop=false&stripmeta=true&type=auto&url=http%3A%2F%2Ftokyo-kitchen.icook.tw.s3.amazonaws.com%2Fuploads%2Frecipe%2Fcover%2F99004%2F12cd6f5bc1ab00ab.jpg&width=800', 'quantity': '2', 'item': [['草莓(中)', '10顆'], ['白巧克力(高級)', '適量'], ['黑巧克力(苦甜)', '適量'], ['鷹牌煉奶', '適量'], ['巧克力米', '少許']], 'step': {'content': ['步驟1.將所有材料備好。', '步驟2.把黑白巧克力隔水加熱。', '步驟3.把草莓用竹籤串好，裏上黑白巧克力。', '步驟4.再攦上巧克力米，放在盤中定型。', '步驟5.再後再淋上【鷹牌煉奶】就可以了。', '步驟6.吃不完的包裝起來放入冰箱就可以了。'], 'stepUrl': ['https://imageproxy.icook.network/resize?height=600&nocrop=false&stripmeta=true&type=auto&url=http%3A%2F%2Ftokyo-kitchen.icook.tw.s3.amazonaws.com%2Fuploads%2Fstep%2Fcover%2F437993%2F1d89d97385c4d01a.jpg&width=800', 'https://imageproxy.icook.network/resize?height=600&nocrop=false&stripmeta=true&type=auto&url=http%3A%2F%2Ftokyo-kitchen.icook.tw.s3.amazonaws.com%2Fuploads%2Fstep%2Fcover%2F437992%2F430c412c1078d4d0.jpg&width=800', 'https://imageproxy.icook.network/resize?height=600&nocrop=false&stripmeta=true&type=auto&url=http%3A%2F%2Ftokyo-kitchen.icook.tw.s3.amazonaws.com%2Fuploads%2Fstep%2Fcover%2F437991%2F929c7addce3b31b2.jpg&width=800', 'https://imageproxy.icook.network/resize?height=600&nocrop=false&stripmeta=true&type=auto&url=http%3A%2F%2Ftokyo-kitchen.icook.tw.s3.amazonaws.com%2Fuploads%2Fstep%2Fcover%2F437994%2F270628ee644d8484.jpg&width=800', 'https://imageproxy.icook.network/resize?height=600&nocrop=false&stripmeta=true&type=auto&url=http%3A%2F%2Ftokyo-kitchen.icook.tw.s3.amazonaws.com%2Fuploads%2Fstep%2Fcover%2F437995%2F61c0c6c6b47e8dfe.jpg&width=800', 'https://imageproxy.icook.network/resize?height=600&nocrop=false&stripmeta=true&type=auto&url=http%3A%2F%2Ftokyo-kitchen.icook.tw.s3.amazonaws.com%2Fuploads%2Fstep%2Fcover%2F438003%2F43e5ae83c468edf5.jpg&width=800']}, 'newItem': [['草莓', '10顆'], ['白巧克力', '適量'], ['黑巧克力', '適量'], ['煉奶', '適量'], ['巧克力', '少許']], 'ingredient': [['草莓', '10顆'], ['牛奶巧克力', '適量'], ['巧克力', '適量'], ['煉乳', '適量'], ['巧克力', '少許']], 'seasoning': []}\n"
     ]
    }
   ],
   "source": [
    "for i in new_data[:2]:\n",
    "    print(i)"
   ]
  },
  {
   "cell_type": "code",
   "execution_count": 70,
   "metadata": {},
   "outputs": [],
   "source": [
    "# write into new json\n",
    "with open('./foodBank/recipe0925_V1.json', 'w', encoding='utf-8') as f:\n",
    "    f.write(json.dumps(new_data))"
   ]
  },
  {
   "cell_type": "code",
   "execution_count": null,
   "metadata": {},
   "outputs": [],
   "source": []
  },
  {
   "cell_type": "code",
   "execution_count": null,
   "metadata": {},
   "outputs": [],
   "source": []
  }
 ],
 "metadata": {
  "kernelspec": {
   "display_name": "Python 3",
   "language": "python",
   "name": "python3"
  },
  "language_info": {
   "codemirror_mode": {
    "name": "ipython",
    "version": 3
   },
   "file_extension": ".py",
   "mimetype": "text/x-python",
   "name": "python",
   "nbconvert_exporter": "python",
   "pygments_lexer": "ipython3",
   "version": "3.7.9"
  }
 },
 "nbformat": 4,
 "nbformat_minor": 4
}
