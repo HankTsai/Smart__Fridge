{
 "cells": [
  {
   "cell_type": "code",
   "execution_count": 2,
   "metadata": {},
   "outputs": [],
   "source": [
    "import json\n",
    "with open('./foodBank/original_total_recipe.json', 'r', encoding='utf-8') as f:\n",
    "    content = json.loads(f.read())"
   ]
  },
  {
   "cell_type": "code",
   "execution_count": null,
   "metadata": {
    "scrolled": true
   },
   "outputs": [],
   "source": [
    "# for k in content:\n",
    "#     print(k['item'])"
   ]
  },
  {
   "cell_type": "code",
   "execution_count": null,
   "metadata": {
    "scrolled": true
   },
   "outputs": [],
   "source": [
    "with open('./foodBank/ingrediant_final.txt', 'r', encoding='utf-8') as f: \n",
    "    ingrediant_wk = f.read().splitlines()\n",
    "    ingrediant_wk.sort(key=len,reverse=True)\n",
    "print(ingrediant_wk)"
   ]
  },
  {
   "cell_type": "code",
   "execution_count": null,
   "metadata": {
    "scrolled": true
   },
   "outputs": [],
   "source": [
    "with open('./foodBank/seasoning_final.txt', 'r', encoding='utf-8') as f: \n",
    "    seasoning_wk = f.read().splitlines()\n",
    "    seasoning_wk.sort(key=len,reverse=True)\n",
    "print(seasoning_wk)"
   ]
  },
  {
   "cell_type": "code",
   "execution_count": null,
   "metadata": {
    "scrolled": true
   },
   "outputs": [],
   "source": [
    "#original items cleaning and seperating\n",
    "\n",
    "word_check = {}\n",
    "for k in content:\n",
    "    new_seasoning_list =[]\n",
    "    new_ingridient_list =[]\n",
    "    item_list = k['item']  # [[a,1],[b,2],[ind,unit]]\n",
    "#     print(item_list)\n",
    "    for each in range(len(item_list)):\n",
    "        original_item = item_list[each][0]\n",
    "        original_unit = item_list[each][1]\n",
    "        \n",
    "        switch = True  #查是否在調味料及食材辭庫(兩層為平行), 因此使用switch(已出現在調味料則不往下查是否在食材)\n",
    "        for word in seasoning_wk:  # go through every words in the word bank\n",
    "            if word in original_item:\n",
    "                new_seasoning_list.append([word,original_unit])\n",
    "                switch = False\n",
    "                break\n",
    "        \n",
    "        if switch == True:\n",
    "            for word in ingrediant_wk:\n",
    "                if word in original_item:\n",
    "                    new_ingridient_list.append([word,original_unit])\n",
    "                    switch = False\n",
    "                    break \n",
    "        \n",
    "        if switch == True:\n",
    "            if original_item not in word_check:    #計算未出現食材出現頻率\n",
    "                word_check[original_item] = 1\n",
    "            else:\n",
    "                word_check[original_item] += 1\n",
    "                \n",
    "\n",
    "#老大方法\n",
    "#     print(new_seasoning_list)\n",
    "#     print(new_ingridient_list)\n",
    "#     print(\"=====================================\")\n",
    "    \n",
    "#     for i, one_ind_unit in enumerate(item_list):\n",
    "#         # one_ind_unit == [ind,unit]\n",
    "#         for word in seasoning_wk:\n",
    "#             if word in one_ind_unit[0]:\n",
    "#                 new_seasoning_list.append([word,one_ind_unit[1]])\n",
    "#                 break\n",
    "#         for word in ingrediant_wk:\n",
    "#             if word in one_ind_unit[0]:\n",
    "#                 new_ingridient_list.append([word,one_ind_unit[1]])\n",
    "#                 break\n",
    "                \n",
    "    \n",
    "        \n",
    "    \n",
    "    \n",
    "# # go through every ingredient to substitute the name format\n",
    "# ingredient_list = ['rice','noodle'......etc]\n",
    "# # specific words\n",
    "# word_bank_main = ['chicken thigh','lamb shank','pork belly'.....etc]\n",
    "# # general words\n",
    "# word_bank_wide = ['chicken','lamb','pork'.....]\n",
    "# for i,each in enumerate(ingredient_list):\n",
    "#     switch = True\n",
    "#     for word in word_bank_main:\n",
    "#         if word in each:\n",
    "#             ingredient_list[i] = word\n",
    "#             switch = False  # if the name is replaced, set False to deactivate the following loop\n",
    "#             break\n",
    "#     if switch == True:\n",
    "#         for word in word_bank_wide:\n",
    "#             if word in each:\n",
    "#                 ingredient_list[i] = word\n",
    "#                 break\n",
    "                \n",
    "            "
   ]
  },
  {
   "cell_type": "code",
   "execution_count": null,
   "metadata": {
    "scrolled": true
   },
   "outputs": [],
   "source": [
    "# check no any crucial items missed \n",
    "\n",
    "# stopword = []\n",
    "# for i in word_check.keys():   \n",
    "#     if word_check[i] < 10:   #若出現頻率太低就存進stopword\n",
    "#         stopword.append(i)\n",
    "# for i in stopword:   #若此key為stopword,直接從字典刪除\n",
    "#     del word_check[i]\n",
    "\n",
    "# word_check"
   ]
  },
  {
   "cell_type": "code",
   "execution_count": null,
   "metadata": {},
   "outputs": [],
   "source": [
    "# add new_list into original recipe\n",
    "print(len(content))\n",
    "losing_list=[]\n",
    "losing_count=0\n",
    "for k in content:\n",
    "    \n",
    "    new_seasoning_list =[]\n",
    "    new_ingredient_list =[]\n",
    "    item_list = k['item']  # [[a,1],[b,2],[ind,unit]]\n",
    "#     print(item_list)\n",
    "    for each in range(len(item_list)):\n",
    "        original_item = item_list[each][0]\n",
    "        original_unit = item_list[each][1]\n",
    "        \n",
    "        switch = True  #查是否在調味料及食材辭庫(兩層為平行), 因此使用switch(已出現在調味料則不往下查是否在食材)\n",
    "        for word in seasoning_wk:  # go through every words in the word bank\n",
    "            if word in original_item:\n",
    "                new_seasoning_list.append([word,original_unit])\n",
    "                switch = False\n",
    "                break\n",
    "        \n",
    "        if switch == True:\n",
    "            for word in ingrediant_wk:\n",
    "                if word in original_item:\n",
    "                    new_ingredient_list.append([word,original_unit])\n",
    "                    switch = False\n",
    "                    break \n",
    "                    \n",
    "        if switch == True:\n",
    "            losing_list.append(original_item)\n",
    "        \n",
    "    if len(item_list) != len(new_ingredient_list) + len(new_seasoning_list):\n",
    "        losing_count += 1\n",
    "                    \n",
    "#     print(new_seasoning_list)\n",
    "#     print(new_ingredient_list)\n",
    "#     print(\"=====================================\")  \n",
    "    k['seasoning'] = new_seasoning_list\n",
    "    k['ingredient'] = new_ingredient_list\n",
    "\n",
    "print(len(losing_list))\n",
    "print(f'losing recipe: {losing_count}')\n",
    "print(content[:5])"
   ]
  },
  {
   "cell_type": "code",
   "execution_count": null,
   "metadata": {},
   "outputs": [],
   "source": [
    "# write into new json\n",
    "with open('./foodBank/original_total_recipe_0917.json', 'w', encoding='utf-8') as f:\n",
    "    f.write(json.dumps(content))"
   ]
  },
  {
   "cell_type": "code",
   "execution_count": 3,
   "metadata": {},
   "outputs": [],
   "source": [
    "big_set = set()\n",
    "for i in content:\n",
    "    for j in i['item']:\n",
    "        big_set.add(j[0])"
   ]
  },
  {
   "cell_type": "code",
   "execution_count": 4,
   "metadata": {},
   "outputs": [
    {
     "data": {
      "text/plain": [
       "217815"
      ]
     },
     "execution_count": 4,
     "metadata": {},
     "output_type": "execute_result"
    }
   ],
   "source": [
    "len(big_set)"
   ]
  },
  {
   "cell_type": "code",
   "execution_count": 21,
   "metadata": {},
   "outputs": [
    {
     "name": "stdout",
     "output_type": "stream",
     "text": [
      "['鬱金粉)']\n",
      "['用金粉/金箔']\n",
      "['玉金粉或番薯粉']\n",
      "['鬱金粉)']\n",
      "['鬱金粉或蓮藕粉']\n",
      "['用金粉']\n",
      "['用金粉(可省略)']\n",
      "['鬱金粉']\n",
      "['鬱金粉']\n",
      "['用金粉（可省）']\n",
      "['鬱金粉']\n",
      "['色金粉']\n"
     ]
    }
   ],
   "source": [
    "import re\n",
    "pattern = r'.金粉.*'\n",
    "for e in big_set:\n",
    "    match =  re.findall(pattern,e)\n",
    "    if match != []:\n",
    "        print(match)"
   ]
  },
  {
   "cell_type": "code",
   "execution_count": null,
   "metadata": {},
   "outputs": [],
   "source": []
  }
 ],
 "metadata": {
  "kernelspec": {
   "display_name": "Python 3",
   "language": "python",
   "name": "python3"
  },
  "language_info": {
   "codemirror_mode": {
    "name": "ipython",
    "version": 3
   },
   "file_extension": ".py",
   "mimetype": "text/x-python",
   "name": "python",
   "nbconvert_exporter": "python",
   "pygments_lexer": "ipython3",
   "version": "3.7.9"
  }
 },
 "nbformat": 4,
 "nbformat_minor": 4
}
