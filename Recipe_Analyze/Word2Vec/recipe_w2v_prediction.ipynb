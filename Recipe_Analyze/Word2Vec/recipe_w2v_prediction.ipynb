{
 "cells": [
  {
   "cell_type": "code",
   "execution_count": 1,
   "metadata": {},
   "outputs": [],
   "source": [
    "import pandas as pd\n",
    "from gensim.models import Word2Vec\n",
    "import json\n",
    "import time\n",
    "import numpy as np\n",
    "import matplotlib.pyplot as plt\n",
    "# 套用別人的code，完成詞向量加總平均得到文本向量\n",
    "from UtilWordEmbedding import MeanEmbeddingVectorizer"
   ]
  },
  {
   "cell_type": "code",
   "execution_count": 2,
   "metadata": {},
   "outputs": [],
   "source": [
    "with open(r'C:\\Users\\Big data\\PycharmProjects\\collaborative_filtering\\dataset\\recipe1018_V8.json','r')as f:\n",
    "    content = json.load(f)"
   ]
  },
  {
   "cell_type": "code",
   "execution_count": 5,
   "metadata": {},
   "outputs": [
    {
     "data": {
      "text/plain": [
       "{'_id': 10,\n",
       " 'recipe': '白玉小米粥',\n",
       " 'tags': ['小米粥', '米食'],\n",
       " 'url': 'https://icook.tw/recipes/99015',\n",
       " 'like': '356 ',\n",
       " 'time': 'unknown',\n",
       " 'image': 'https://imageproxy.icook.network/resize?height=600&nocrop=false&stripmeta=true&type=auto&url=http%3A%2F%2Ftokyo-kitchen.icook.tw.s3.amazonaws.com%2Fuploads%2Frecipe%2Fcover%2F99015%2F80094d83e58f0567.jpg&width=800',\n",
       " 'quantity': 1,\n",
       " 'item': [['小米', '一米杯'],\n",
       "  ['白米', '半米杯'],\n",
       "  ['水(內鍋用)', '七米杯'],\n",
       "  ['桂圓', '適量'],\n",
       "  ['糖', '各人喜好'],\n",
       "  ['水(外鍋用)', '一米杯']],\n",
       " 'step': {'content': ['步驟1.將小米及白米放於一個鍋子中，洗淨',\n",
       "   '步驟2.鍋中加上七量杯的水，加桂圓',\n",
       "   '步驟3.放進電鍋，外鍋加上兩米杯的水，蓋鍋蓋，按下煮飯鍵',\n",
       "   '步驟4.等到電鍋跳起時，加上適量的糖',\n",
       "   '步驟5.完成'],\n",
       "  'stepUrl': ['', '', '', '', '']},\n",
       " 'newItem': [['小米', '一米杯'],\n",
       "  ['米', '半米杯'],\n",
       "  ['水', '七米杯'],\n",
       "  ['桂圓', '適量'],\n",
       "  ['糖', '各人喜好'],\n",
       "  ['水', '一米杯']],\n",
       " 'ingredient': [['米', 180, 'ml'], ['龍眼', 90, 'gram']],\n",
       " 'seasoning': [['水', 1260, 'ml'], ['砂糖', 60, 'gram']],\n",
       " 'ing_dict': {'米': '一米杯', '龍眼': '適量'},\n",
       " 'season_dict': {'水': '七米杯', '砂糖': '各人喜好'},\n",
       " 'cluster': 'cluster5'}"
      ]
     },
     "execution_count": 5,
     "metadata": {},
     "output_type": "execute_result"
    }
   ],
   "source": [
    "content[10]"
   ]
  },
  {
   "cell_type": "code",
   "execution_count": 6,
   "metadata": {},
   "outputs": [],
   "source": [
    "# 取出食譜名稱及將食材資訊轉成set\n",
    "each_ingredient_list = list()\n",
    "recipe_name_list = list()\n",
    "for k in content:\n",
    "    recipe_name_list.append(k['recipe'])\n",
    "    each_ingredient_list.append(set(k['ing_dict'].keys()))"
   ]
  },
  {
   "cell_type": "code",
   "execution_count": 7,
   "metadata": {},
   "outputs": [],
   "source": [
    "model = Word2Vec.load(\"w2v_ingredient_only_V2.model\")"
   ]
  },
  {
   "cell_type": "code",
   "execution_count": 8,
   "metadata": {},
   "outputs": [
    {
     "data": {
      "text/plain": [
       "100"
      ]
     },
     "execution_count": 8,
     "metadata": {},
     "output_type": "execute_result"
    }
   ],
   "source": [
    "model.wv.vector_size"
   ]
  },
  {
   "cell_type": "code",
   "execution_count": 9,
   "metadata": {
    "scrolled": true
   },
   "outputs": [
    {
     "data": {
      "text/plain": [
       "674"
      ]
     },
     "execution_count": 9,
     "metadata": {},
     "output_type": "execute_result"
    }
   ],
   "source": [
    "len(model.wv.vocab.keys())"
   ]
  },
  {
   "cell_type": "code",
   "execution_count": 10,
   "metadata": {},
   "outputs": [
    {
     "name": "stderr",
     "output_type": "stream",
     "text": [
      "WARNING:root:cannot compute average owing to no vector for set()\n",
      "WARNING:root:cannot compute average owing to no vector for set()\n",
      "WARNING:root:cannot compute average owing to no vector for set()\n",
      "WARNING:root:cannot compute average owing to no vector for set()\n",
      "WARNING:root:cannot compute average owing to no vector for set()\n",
      "WARNING:root:cannot compute average owing to no vector for set()\n",
      "WARNING:root:cannot compute average owing to no vector for set()\n",
      "WARNING:root:cannot compute average owing to no vector for set()\n",
      "WARNING:root:cannot compute average owing to no vector for set()\n",
      "WARNING:root:cannot compute average owing to no vector for set()\n",
      "WARNING:root:cannot compute average owing to no vector for set()\n",
      "WARNING:root:cannot compute average owing to no vector for set()\n",
      "WARNING:root:cannot compute average owing to no vector for set()\n",
      "WARNING:root:cannot compute average owing to no vector for set()\n",
      "WARNING:root:cannot compute average owing to no vector for set()\n",
      "WARNING:root:cannot compute average owing to no vector for set()\n",
      "WARNING:root:cannot compute average owing to no vector for set()\n",
      "WARNING:root:cannot compute average owing to no vector for set()\n",
      "WARNING:root:cannot compute average owing to no vector for set()\n",
      "WARNING:root:cannot compute average owing to no vector for set()\n",
      "WARNING:root:cannot compute average owing to no vector for set()\n",
      "WARNING:root:cannot compute average owing to no vector for set()\n",
      "WARNING:root:cannot compute average owing to no vector for set()\n",
      "WARNING:root:cannot compute average owing to no vector for set()\n",
      "WARNING:root:cannot compute average owing to no vector for set()\n",
      "WARNING:root:cannot compute average owing to no vector for set()\n",
      "WARNING:root:cannot compute average owing to no vector for set()\n",
      "WARNING:root:cannot compute average owing to no vector for set()\n",
      "WARNING:root:cannot compute average owing to no vector for set()\n",
      "WARNING:root:cannot compute average owing to no vector for set()\n",
      "WARNING:root:cannot compute average owing to no vector for set()\n",
      "WARNING:root:cannot compute average owing to no vector for set()\n",
      "WARNING:root:cannot compute average owing to no vector for set()\n",
      "WARNING:root:cannot compute average owing to no vector for set()\n",
      "WARNING:root:cannot compute average owing to no vector for set()\n",
      "WARNING:root:cannot compute average owing to no vector for set()\n",
      "WARNING:root:cannot compute average owing to no vector for set()\n",
      "WARNING:root:cannot compute average owing to no vector for set()\n",
      "WARNING:root:cannot compute average owing to no vector for set()\n",
      "WARNING:root:cannot compute average owing to no vector for set()\n",
      "WARNING:root:cannot compute average owing to no vector for set()\n",
      "WARNING:root:cannot compute average owing to no vector for set()\n",
      "WARNING:root:cannot compute average owing to no vector for set()\n",
      "WARNING:root:cannot compute average owing to no vector for set()\n",
      "WARNING:root:cannot compute average owing to no vector for set()\n",
      "WARNING:root:cannot compute average owing to no vector for set()\n",
      "WARNING:root:cannot compute average owing to no vector for set()\n",
      "WARNING:root:cannot compute average owing to no vector for set()\n",
      "WARNING:root:cannot compute average owing to no vector for set()\n",
      "WARNING:root:cannot compute average owing to no vector for set()\n",
      "WARNING:root:cannot compute average owing to no vector for set()\n",
      "WARNING:root:cannot compute average owing to no vector for set()\n",
      "WARNING:root:cannot compute average owing to no vector for set()\n",
      "WARNING:root:cannot compute average owing to no vector for set()\n",
      "WARNING:root:cannot compute average owing to no vector for set()\n",
      "WARNING:root:cannot compute average owing to no vector for set()\n",
      "WARNING:root:cannot compute average owing to no vector for set()\n",
      "WARNING:root:cannot compute average owing to no vector for set()\n",
      "WARNING:root:cannot compute average owing to no vector for set()\n",
      "WARNING:root:cannot compute average owing to no vector for set()\n",
      "WARNING:root:cannot compute average owing to no vector for set()\n",
      "WARNING:root:cannot compute average owing to no vector for set()\n",
      "WARNING:root:cannot compute average owing to no vector for set()\n",
      "WARNING:root:cannot compute average owing to no vector for set()\n",
      "WARNING:root:cannot compute average owing to no vector for set()\n",
      "WARNING:root:cannot compute average owing to no vector for set()\n",
      "WARNING:root:cannot compute average owing to no vector for set()\n",
      "WARNING:root:cannot compute average owing to no vector for set()\n",
      "WARNING:root:cannot compute average owing to no vector for set()\n",
      "WARNING:root:cannot compute average owing to no vector for set()\n",
      "WARNING:root:cannot compute average owing to no vector for set()\n",
      "WARNING:root:cannot compute average owing to no vector for set()\n",
      "WARNING:root:cannot compute average owing to no vector for set()\n",
      "WARNING:root:cannot compute average owing to no vector for set()\n",
      "WARNING:root:cannot compute average owing to no vector for set()\n",
      "WARNING:root:cannot compute average owing to no vector for set()\n",
      "WARNING:root:cannot compute average owing to no vector for set()\n",
      "WARNING:root:cannot compute average owing to no vector for set()\n",
      "WARNING:root:cannot compute average owing to no vector for set()\n",
      "WARNING:root:cannot compute average owing to no vector for set()\n",
      "WARNING:root:cannot compute average owing to no vector for set()\n",
      "WARNING:root:cannot compute average owing to no vector for set()\n",
      "WARNING:root:cannot compute average owing to no vector for set()\n",
      "WARNING:root:cannot compute average owing to no vector for set()\n",
      "WARNING:root:cannot compute average owing to no vector for set()\n",
      "WARNING:root:cannot compute average owing to no vector for set()\n",
      "WARNING:root:cannot compute average owing to no vector for set()\n",
      "WARNING:root:cannot compute average owing to no vector for set()\n",
      "WARNING:root:cannot compute average owing to no vector for set()\n",
      "WARNING:root:cannot compute average owing to no vector for set()\n",
      "WARNING:root:cannot compute average owing to no vector for set()\n",
      "WARNING:root:cannot compute average owing to no vector for set()\n",
      "WARNING:root:cannot compute average owing to no vector for set()\n",
      "WARNING:root:cannot compute average owing to no vector for set()\n",
      "WARNING:root:cannot compute average owing to no vector for set()\n",
      "WARNING:root:cannot compute average owing to no vector for set()\n",
      "WARNING:root:cannot compute average owing to no vector for set()\n",
      "WARNING:root:cannot compute average owing to no vector for set()\n",
      "WARNING:root:cannot compute average owing to no vector for set()\n",
      "WARNING:root:cannot compute average owing to no vector for set()\n",
      "WARNING:root:cannot compute average owing to no vector for set()\n",
      "WARNING:root:cannot compute average owing to no vector for set()\n",
      "WARNING:root:cannot compute average owing to no vector for set()\n",
      "WARNING:root:cannot compute average owing to no vector for set()\n",
      "WARNING:root:cannot compute average owing to no vector for set()\n",
      "WARNING:root:cannot compute average owing to no vector for set()\n",
      "WARNING:root:cannot compute average owing to no vector for set()\n",
      "WARNING:root:cannot compute average owing to no vector for set()\n",
      "WARNING:root:cannot compute average owing to no vector for set()\n",
      "WARNING:root:cannot compute average owing to no vector for set()\n",
      "WARNING:root:cannot compute average owing to no vector for set()\n",
      "WARNING:root:cannot compute average owing to no vector for set()\n",
      "WARNING:root:cannot compute average owing to no vector for set()\n",
      "WARNING:root:cannot compute average owing to no vector for set()\n",
      "WARNING:root:cannot compute average owing to no vector for set()\n",
      "WARNING:root:cannot compute average owing to no vector for set()\n",
      "WARNING:root:cannot compute average owing to no vector for set()\n",
      "WARNING:root:cannot compute average owing to no vector for set()\n",
      "WARNING:root:cannot compute average owing to no vector for set()\n",
      "WARNING:root:cannot compute average owing to no vector for set()\n",
      "WARNING:root:cannot compute average owing to no vector for set()\n",
      "WARNING:root:cannot compute average owing to no vector for set()\n",
      "WARNING:root:cannot compute average owing to no vector for set()\n",
      "WARNING:root:cannot compute average owing to no vector for set()\n",
      "WARNING:root:cannot compute average owing to no vector for set()\n",
      "WARNING:root:cannot compute average owing to no vector for set()\n",
      "WARNING:root:cannot compute average owing to no vector for set()\n"
     ]
    },
    {
     "name": "stderr",
     "output_type": "stream",
     "text": [
      "WARNING:root:cannot compute average owing to no vector for set()\n",
      "WARNING:root:cannot compute average owing to no vector for set()\n",
      "WARNING:root:cannot compute average owing to no vector for set()\n",
      "WARNING:root:cannot compute average owing to no vector for set()\n",
      "WARNING:root:cannot compute average owing to no vector for set()\n",
      "WARNING:root:cannot compute average owing to no vector for set()\n",
      "WARNING:root:cannot compute average owing to no vector for set()\n",
      "WARNING:root:cannot compute average owing to no vector for set()\n",
      "WARNING:root:cannot compute average owing to no vector for set()\n",
      "WARNING:root:cannot compute average owing to no vector for set()\n",
      "WARNING:root:cannot compute average owing to no vector for set()\n",
      "WARNING:root:cannot compute average owing to no vector for set()\n",
      "WARNING:root:cannot compute average owing to no vector for set()\n",
      "WARNING:root:cannot compute average owing to no vector for set()\n",
      "WARNING:root:cannot compute average owing to no vector for set()\n",
      "WARNING:root:cannot compute average owing to no vector for set()\n",
      "WARNING:root:cannot compute average owing to no vector for set()\n",
      "WARNING:root:cannot compute average owing to no vector for set()\n",
      "WARNING:root:cannot compute average owing to no vector for set()\n",
      "WARNING:root:cannot compute average owing to no vector for set()\n",
      "WARNING:root:cannot compute average owing to no vector for set()\n",
      "WARNING:root:cannot compute average owing to no vector for set()\n",
      "WARNING:root:cannot compute average owing to no vector for set()\n",
      "WARNING:root:cannot compute average owing to no vector for set()\n",
      "WARNING:root:cannot compute average owing to no vector for set()\n",
      "WARNING:root:cannot compute average owing to no vector for set()\n",
      "WARNING:root:cannot compute average owing to no vector for set()\n",
      "WARNING:root:cannot compute average owing to no vector for set()\n",
      "WARNING:root:cannot compute average owing to no vector for set()\n",
      "WARNING:root:cannot compute average owing to no vector for set()\n",
      "WARNING:root:cannot compute average owing to no vector for set()\n",
      "WARNING:root:cannot compute average owing to no vector for set()\n",
      "WARNING:root:cannot compute average owing to no vector for set()\n",
      "WARNING:root:cannot compute average owing to no vector for set()\n",
      "WARNING:root:cannot compute average owing to no vector for set()\n",
      "WARNING:root:cannot compute average owing to no vector for set()\n",
      "WARNING:root:cannot compute average owing to no vector for set()\n",
      "WARNING:root:cannot compute average owing to no vector for set()\n",
      "WARNING:root:cannot compute average owing to no vector for set()\n",
      "WARNING:root:cannot compute average owing to no vector for set()\n",
      "WARNING:root:cannot compute average owing to no vector for set()\n",
      "WARNING:root:cannot compute average owing to no vector for set()\n",
      "WARNING:root:cannot compute average owing to no vector for set()\n",
      "WARNING:root:cannot compute average owing to no vector for set()\n",
      "WARNING:root:cannot compute average owing to no vector for set()\n",
      "WARNING:root:cannot compute average owing to no vector for set()\n",
      "WARNING:root:cannot compute average owing to no vector for set()\n",
      "WARNING:root:cannot compute average owing to no vector for set()\n",
      "WARNING:root:cannot compute average owing to no vector for set()\n",
      "WARNING:root:cannot compute average owing to no vector for set()\n",
      "WARNING:root:cannot compute average owing to no vector for set()\n",
      "WARNING:root:cannot compute average owing to no vector for set()\n",
      "WARNING:root:cannot compute average owing to no vector for set()\n",
      "WARNING:root:cannot compute average owing to no vector for set()\n",
      "WARNING:root:cannot compute average owing to no vector for set()\n",
      "WARNING:root:cannot compute average owing to no vector for set()\n",
      "WARNING:root:cannot compute average owing to no vector for set()\n",
      "WARNING:root:cannot compute average owing to no vector for set()\n",
      "WARNING:root:cannot compute average owing to no vector for set()\n",
      "WARNING:root:cannot compute average owing to no vector for set()\n",
      "WARNING:root:cannot compute average owing to no vector for set()\n",
      "WARNING:root:cannot compute average owing to no vector for set()\n",
      "WARNING:root:cannot compute average owing to no vector for set()\n",
      "WARNING:root:cannot compute average owing to no vector for set()\n",
      "WARNING:root:cannot compute average owing to no vector for set()\n",
      "WARNING:root:cannot compute average owing to no vector for set()\n",
      "WARNING:root:cannot compute average owing to no vector for set()\n",
      "WARNING:root:cannot compute average owing to no vector for set()\n",
      "WARNING:root:cannot compute average owing to no vector for set()\n",
      "WARNING:root:cannot compute average owing to no vector for set()\n",
      "WARNING:root:cannot compute average owing to no vector for set()\n",
      "WARNING:root:cannot compute average owing to no vector for set()\n",
      "WARNING:root:cannot compute average owing to no vector for set()\n",
      "WARNING:root:cannot compute average owing to no vector for set()\n",
      "WARNING:root:cannot compute average owing to no vector for set()\n",
      "WARNING:root:cannot compute average owing to no vector for set()\n",
      "WARNING:root:cannot compute average owing to no vector for set()\n",
      "WARNING:root:cannot compute average owing to no vector for set()\n",
      "WARNING:root:cannot compute average owing to no vector for set()\n",
      "WARNING:root:cannot compute average owing to no vector for set()\n",
      "WARNING:root:cannot compute average owing to no vector for set()\n",
      "WARNING:root:cannot compute average owing to no vector for set()\n",
      "WARNING:root:cannot compute average owing to no vector for set()\n",
      "WARNING:root:cannot compute average owing to no vector for set()\n",
      "WARNING:root:cannot compute average owing to no vector for set()\n",
      "WARNING:root:cannot compute average owing to no vector for set()\n",
      "WARNING:root:cannot compute average owing to no vector for set()\n",
      "WARNING:root:cannot compute average owing to no vector for set()\n",
      "WARNING:root:cannot compute average owing to no vector for set()\n",
      "WARNING:root:cannot compute average owing to no vector for set()\n",
      "WARNING:root:cannot compute average owing to no vector for set()\n",
      "WARNING:root:cannot compute average owing to no vector for set()\n",
      "WARNING:root:cannot compute average owing to no vector for set()\n",
      "WARNING:root:cannot compute average owing to no vector for set()\n",
      "WARNING:root:cannot compute average owing to no vector for set()\n",
      "WARNING:root:cannot compute average owing to no vector for set()\n",
      "WARNING:root:cannot compute average owing to no vector for set()\n",
      "WARNING:root:cannot compute average owing to no vector for set()\n",
      "WARNING:root:cannot compute average owing to no vector for set()\n",
      "WARNING:root:cannot compute average owing to no vector for set()\n",
      "WARNING:root:cannot compute average owing to no vector for set()\n",
      "WARNING:root:cannot compute average owing to no vector for set()\n",
      "WARNING:root:cannot compute average owing to no vector for set()\n",
      "WARNING:root:cannot compute average owing to no vector for set()\n",
      "WARNING:root:cannot compute average owing to no vector for set()\n",
      "WARNING:root:cannot compute average owing to no vector for set()\n",
      "WARNING:root:cannot compute average owing to no vector for set()\n",
      "WARNING:root:cannot compute average owing to no vector for set()\n",
      "WARNING:root:cannot compute average owing to no vector for set()\n",
      "WARNING:root:cannot compute average owing to no vector for set()\n",
      "WARNING:root:cannot compute average owing to no vector for set()\n",
      "WARNING:root:cannot compute average owing to no vector for set()\n",
      "WARNING:root:cannot compute average owing to no vector for set()\n",
      "WARNING:root:cannot compute average owing to no vector for set()\n",
      "WARNING:root:cannot compute average owing to no vector for set()\n",
      "WARNING:root:cannot compute average owing to no vector for set()\n",
      "WARNING:root:cannot compute average owing to no vector for set()\n",
      "WARNING:root:cannot compute average owing to no vector for set()\n",
      "WARNING:root:cannot compute average owing to no vector for set()\n",
      "WARNING:root:cannot compute average owing to no vector for set()\n",
      "WARNING:root:cannot compute average owing to no vector for set()\n",
      "WARNING:root:cannot compute average owing to no vector for set()\n",
      "WARNING:root:cannot compute average owing to no vector for set()\n",
      "WARNING:root:cannot compute average owing to no vector for set()\n",
      "WARNING:root:cannot compute average owing to no vector for set()\n",
      "WARNING:root:cannot compute average owing to no vector for set()\n",
      "WARNING:root:cannot compute average owing to no vector for set()\n"
     ]
    },
    {
     "name": "stderr",
     "output_type": "stream",
     "text": [
      "WARNING:root:cannot compute average owing to no vector for set()\n",
      "WARNING:root:cannot compute average owing to no vector for set()\n",
      "WARNING:root:cannot compute average owing to no vector for set()\n",
      "WARNING:root:cannot compute average owing to no vector for set()\n",
      "WARNING:root:cannot compute average owing to no vector for set()\n",
      "WARNING:root:cannot compute average owing to no vector for set()\n",
      "WARNING:root:cannot compute average owing to no vector for set()\n",
      "WARNING:root:cannot compute average owing to no vector for set()\n",
      "WARNING:root:cannot compute average owing to no vector for set()\n",
      "WARNING:root:cannot compute average owing to no vector for set()\n",
      "WARNING:root:cannot compute average owing to no vector for set()\n",
      "WARNING:root:cannot compute average owing to no vector for set()\n",
      "WARNING:root:cannot compute average owing to no vector for set()\n",
      "WARNING:root:cannot compute average owing to no vector for set()\n",
      "WARNING:root:cannot compute average owing to no vector for set()\n",
      "WARNING:root:cannot compute average owing to no vector for set()\n",
      "WARNING:root:cannot compute average owing to no vector for set()\n",
      "WARNING:root:cannot compute average owing to no vector for set()\n",
      "WARNING:root:cannot compute average owing to no vector for set()\n",
      "WARNING:root:cannot compute average owing to no vector for set()\n",
      "WARNING:root:cannot compute average owing to no vector for set()\n",
      "WARNING:root:cannot compute average owing to no vector for set()\n",
      "WARNING:root:cannot compute average owing to no vector for set()\n",
      "WARNING:root:cannot compute average owing to no vector for set()\n",
      "WARNING:root:cannot compute average owing to no vector for set()\n",
      "WARNING:root:cannot compute average owing to no vector for set()\n",
      "WARNING:root:cannot compute average owing to no vector for set()\n",
      "WARNING:root:cannot compute average owing to no vector for set()\n",
      "WARNING:root:cannot compute average owing to no vector for set()\n",
      "WARNING:root:cannot compute average owing to no vector for set()\n",
      "WARNING:root:cannot compute average owing to no vector for set()\n",
      "WARNING:root:cannot compute average owing to no vector for set()\n",
      "WARNING:root:cannot compute average owing to no vector for set()\n",
      "WARNING:root:cannot compute average owing to no vector for set()\n",
      "WARNING:root:cannot compute average owing to no vector for set()\n",
      "WARNING:root:cannot compute average owing to no vector for set()\n",
      "WARNING:root:cannot compute average owing to no vector for set()\n",
      "WARNING:root:cannot compute average owing to no vector for set()\n",
      "WARNING:root:cannot compute average owing to no vector for set()\n",
      "WARNING:root:cannot compute average owing to no vector for set()\n",
      "WARNING:root:cannot compute average owing to no vector for set()\n",
      "WARNING:root:cannot compute average owing to no vector for set()\n",
      "WARNING:root:cannot compute average owing to no vector for set()\n",
      "WARNING:root:cannot compute average owing to no vector for set()\n",
      "WARNING:root:cannot compute average owing to no vector for set()\n",
      "WARNING:root:cannot compute average owing to no vector for set()\n",
      "WARNING:root:cannot compute average owing to no vector for set()\n",
      "WARNING:root:cannot compute average owing to no vector for set()\n",
      "WARNING:root:cannot compute average owing to no vector for set()\n",
      "WARNING:root:cannot compute average owing to no vector for set()\n",
      "WARNING:root:cannot compute average owing to no vector for set()\n",
      "WARNING:root:cannot compute average owing to no vector for set()\n",
      "WARNING:root:cannot compute average owing to no vector for set()\n",
      "WARNING:root:cannot compute average owing to no vector for set()\n",
      "WARNING:root:cannot compute average owing to no vector for set()\n",
      "WARNING:root:cannot compute average owing to no vector for set()\n",
      "WARNING:root:cannot compute average owing to no vector for set()\n",
      "WARNING:root:cannot compute average owing to no vector for set()\n",
      "WARNING:root:cannot compute average owing to no vector for set()\n",
      "WARNING:root:cannot compute average owing to no vector for set()\n",
      "WARNING:root:cannot compute average owing to no vector for set()\n",
      "WARNING:root:cannot compute average owing to no vector for set()\n",
      "WARNING:root:cannot compute average owing to no vector for set()\n",
      "WARNING:root:cannot compute average owing to no vector for set()\n",
      "WARNING:root:cannot compute average owing to no vector for set()\n",
      "WARNING:root:cannot compute average owing to no vector for set()\n",
      "WARNING:root:cannot compute average owing to no vector for set()\n",
      "WARNING:root:cannot compute average owing to no vector for set()\n",
      "WARNING:root:cannot compute average owing to no vector for set()\n",
      "WARNING:root:cannot compute average owing to no vector for set()\n",
      "WARNING:root:cannot compute average owing to no vector for set()\n",
      "WARNING:root:cannot compute average owing to no vector for set()\n",
      "WARNING:root:cannot compute average owing to no vector for set()\n",
      "WARNING:root:cannot compute average owing to no vector for set()\n",
      "WARNING:root:cannot compute average owing to no vector for set()\n",
      "WARNING:root:cannot compute average owing to no vector for set()\n",
      "WARNING:root:cannot compute average owing to no vector for set()\n",
      "WARNING:root:cannot compute average owing to no vector for set()\n",
      "WARNING:root:cannot compute average owing to no vector for set()\n",
      "WARNING:root:cannot compute average owing to no vector for set()\n",
      "WARNING:root:cannot compute average owing to no vector for set()\n",
      "WARNING:root:cannot compute average owing to no vector for set()\n",
      "WARNING:root:cannot compute average owing to no vector for set()\n",
      "WARNING:root:cannot compute average owing to no vector for set()\n",
      "WARNING:root:cannot compute average owing to no vector for set()\n",
      "WARNING:root:cannot compute average owing to no vector for set()\n",
      "WARNING:root:cannot compute average owing to no vector for set()\n",
      "WARNING:root:cannot compute average owing to no vector for set()\n",
      "WARNING:root:cannot compute average owing to no vector for set()\n",
      "WARNING:root:cannot compute average owing to no vector for set()\n",
      "WARNING:root:cannot compute average owing to no vector for set()\n",
      "WARNING:root:cannot compute average owing to no vector for set()\n",
      "WARNING:root:cannot compute average owing to no vector for set()\n",
      "WARNING:root:cannot compute average owing to no vector for set()\n",
      "WARNING:root:cannot compute average owing to no vector for set()\n",
      "WARNING:root:cannot compute average owing to no vector for set()\n",
      "WARNING:root:cannot compute average owing to no vector for set()\n"
     ]
    }
   ],
   "source": [
    "# 計算食譜向量\n",
    "mean_vec_tr = MeanEmbeddingVectorizer(model)\n",
    "doc_vec = mean_vec_tr.transform(each_ingredient_list)"
   ]
  },
  {
   "cell_type": "code",
   "execution_count": 20,
   "metadata": {},
   "outputs": [
    {
     "data": {
      "text/plain": [
       "(179763, 100)"
      ]
     },
     "execution_count": 20,
     "metadata": {},
     "output_type": "execute_result"
    }
   ],
   "source": [
    "doc_vec.shape"
   ]
  },
  {
   "cell_type": "code",
   "execution_count": 11,
   "metadata": {},
   "outputs": [
    {
     "name": "stdout",
     "output_type": "stream",
     "text": [
      "Save word-mean doc2vec as csv file...\n"
     ]
    }
   ],
   "source": [
    "print('Save word-mean doc2vec as csv file...')\n",
    "np.savetxt('doc_vec.csv', doc_vec, delimiter=',')"
   ]
  },
  {
   "cell_type": "code",
   "execution_count": 12,
   "metadata": {},
   "outputs": [],
   "source": [
    "doc_vec2 = np.loadtxt('doc_vec.csv', delimiter=',')"
   ]
  },
  {
   "cell_type": "code",
   "execution_count": 14,
   "metadata": {},
   "outputs": [
    {
     "data": {
      "text/plain": [
       "array([ 0.26991591, -0.03106914, -0.28023878,  0.17768228, -0.15088855,\n",
       "       -0.15687825, -0.18416616,  0.0076086 ,  0.10231595, -0.16413519,\n",
       "       -0.13492841,  0.27585346,  0.0428589 , -0.09329873,  0.13683882,\n",
       "        0.03763111, -0.09502773, -0.08483031, -0.05020612,  0.12535436,\n",
       "       -0.09635784, -0.13695262,  0.03956997,  0.04998798,  0.26156908,\n",
       "        0.22864819,  0.32264823, -0.01195041,  0.27372068, -0.29775348,\n",
       "        0.134607  ,  0.33746079, -0.04821556,  0.15904713,  0.02633532,\n",
       "        0.08022454,  0.3862263 ,  0.01615192, -0.26891965,  0.08098864,\n",
       "       -0.30078736,  0.04892483, -0.01395081, -0.07779928,  0.17683083,\n",
       "       -0.06490128,  0.21234289,  0.11269782, -0.18980697, -0.09834974,\n",
       "       -0.02194847,  0.16407362,  0.06133271,  0.05899385,  0.00730507,\n",
       "       -0.06682305, -0.46212876, -0.01764164,  0.05156829, -0.30795118,\n",
       "        0.09628273,  0.0417475 , -0.13374224,  0.02511565,  0.01912142,\n",
       "       -0.0496301 , -0.2733466 ,  0.03495349,  0.03650033,  0.00312292,\n",
       "        0.41621035, -0.05795925,  0.17029499, -0.06180536,  0.18736899,\n",
       "       -0.0869877 ,  0.18621501, -0.07882001, -0.43157816, -0.08165456,\n",
       "        0.20078588,  0.12711933,  0.03450205,  0.15184627, -0.00640127,\n",
       "        0.04746569, -0.28189853,  0.00577764,  0.26734552, -0.1286934 ,\n",
       "       -0.23191194, -0.26969898, -0.14881198,  0.08963592, -0.47217196,\n",
       "        0.26426721, -0.12139863, -0.12259582, -0.17566979,  0.08841361])"
      ]
     },
     "execution_count": 14,
     "metadata": {},
     "output_type": "execute_result"
    }
   ],
   "source": [
    "doc_vec2[0]"
   ]
  },
  {
   "cell_type": "code",
   "execution_count": 15,
   "metadata": {},
   "outputs": [
    {
     "data": {
      "text/plain": [
       "array([ 0.26991591, -0.03106914, -0.28023878,  0.17768228, -0.15088855,\n",
       "       -0.15687825, -0.18416616,  0.0076086 ,  0.10231595, -0.16413519,\n",
       "       -0.13492841,  0.27585346,  0.0428589 , -0.09329873,  0.13683882,\n",
       "        0.03763111, -0.09502773, -0.08483031, -0.05020612,  0.12535436,\n",
       "       -0.09635784, -0.13695262,  0.03956997,  0.04998798,  0.26156908,\n",
       "        0.22864819,  0.32264823, -0.01195041,  0.27372068, -0.29775348,\n",
       "        0.134607  ,  0.33746079, -0.04821556,  0.15904713,  0.02633532,\n",
       "        0.08022454,  0.3862263 ,  0.01615192, -0.26891965,  0.08098864,\n",
       "       -0.30078736,  0.04892483, -0.01395081, -0.07779928,  0.17683083,\n",
       "       -0.06490128,  0.21234289,  0.11269782, -0.18980697, -0.09834974,\n",
       "       -0.02194847,  0.16407362,  0.06133271,  0.05899385,  0.00730507,\n",
       "       -0.06682305, -0.46212876, -0.01764164,  0.05156829, -0.30795118,\n",
       "        0.09628273,  0.0417475 , -0.13374224,  0.02511565,  0.01912142,\n",
       "       -0.0496301 , -0.2733466 ,  0.03495349,  0.03650033,  0.00312292,\n",
       "        0.41621035, -0.05795925,  0.17029499, -0.06180536,  0.18736899,\n",
       "       -0.0869877 ,  0.18621501, -0.07882001, -0.43157816, -0.08165456,\n",
       "        0.20078588,  0.12711933,  0.03450205,  0.15184627, -0.00640127,\n",
       "        0.04746569, -0.28189853,  0.00577764,  0.26734552, -0.1286934 ,\n",
       "       -0.23191194, -0.26969898, -0.14881198,  0.08963592, -0.47217196,\n",
       "        0.26426721, -0.12139863, -0.12259582, -0.17566979,  0.08841361])"
      ]
     },
     "execution_count": 15,
     "metadata": {},
     "output_type": "execute_result"
    }
   ],
   "source": [
    "doc_vec[0]"
   ]
  },
  {
   "cell_type": "code",
   "execution_count": 21,
   "metadata": {},
   "outputs": [],
   "source": [
    "# 製作使用者的冰箱食材向量\n",
    "user_refri_list = [[\"雞蛋\",\"豬肉\",\"茄子\"]]\n",
    "user_embedding = mean_vec_tr.transform(user_refri_list)"
   ]
  },
  {
   "cell_type": "code",
   "execution_count": 22,
   "metadata": {},
   "outputs": [],
   "source": [
    "user_embedding = user_embedding.reshape(100,)"
   ]
  },
  {
   "cell_type": "code",
   "execution_count": 23,
   "metadata": {},
   "outputs": [
    {
     "data": {
      "text/plain": [
       "array([ 0.15313827,  0.1418465 , -0.14324242,  0.01021427,  0.14978187,\n",
       "        0.18324484,  0.16401681, -0.0383535 ,  0.011036  , -0.1591979 ,\n",
       "        0.21174926, -0.14827459, -0.0658868 , -0.09594008,  0.14411633,\n",
       "       -0.00110703, -0.09557336,  0.02664453,  0.01577303,  0.33447877,\n",
       "       -0.29142252, -0.03294697,  0.32671311,  0.00062477, -0.03075874,\n",
       "       -0.12574005, -0.09272739,  0.12789796, -0.10024045, -0.2057385 ,\n",
       "       -0.20034719, -0.2625802 ,  0.19150263, -0.13620739,  0.1016629 ,\n",
       "        0.26612917,  0.27801186, -0.02684195,  0.40735015, -0.21015961,\n",
       "       -0.10245734,  0.15418287,  0.14564218, -0.03240364, -0.11404882,\n",
       "       -0.02613234, -0.08205723,  0.12406725,  0.24124499, -0.05253068,\n",
       "        0.27949408,  0.12417102, -0.21958542,  0.03555836, -0.06491753,\n",
       "        0.07735928, -0.1850161 , -0.04246483,  0.37544832,  0.02319232,\n",
       "        0.17570694, -0.11454392, -0.03046728, -0.04372417, -0.02491719,\n",
       "        0.10643303, -0.03430458, -0.09443929,  0.11036792, -0.15602982,\n",
       "        0.03877681,  0.1546544 , -0.08346841,  0.13421392,  0.4104475 ,\n",
       "        0.04816813, -0.10618898,  0.2264237 ,  0.21112944, -0.2842128 ,\n",
       "       -0.12182337,  0.2288361 , -0.2590117 , -0.08012799, -0.29642487,\n",
       "        0.03399358,  0.01975444,  0.24196939,  0.13983837, -0.1866275 ,\n",
       "        0.11992687, -0.34530857,  0.08528999,  0.00794793,  0.37943554,\n",
       "        0.06619227, -0.05268208,  0.00625618,  0.03883466,  0.10246263],\n",
       "      dtype=float32)"
      ]
     },
     "execution_count": 23,
     "metadata": {},
     "output_type": "execute_result"
    }
   ],
   "source": [
    "user_embedding"
   ]
  },
  {
   "cell_type": "code",
   "execution_count": 24,
   "metadata": {},
   "outputs": [
    {
     "data": {
      "text/plain": [
       "array([ 6.00111634e-02,  3.44229609e-01, -9.16889310e-03, -1.49313301e-01,\n",
       "       -3.18477489e-02,  2.69133687e-01,  5.49989194e-02,  1.43168002e-01,\n",
       "       -2.55894870e-01, -6.42395541e-02,  1.62946671e-01, -1.31730437e-01,\n",
       "        3.34758759e-01, -2.06123307e-01,  1.86183065e-01, -1.28064863e-02,\n",
       "       -6.92339167e-02,  1.70206517e-01,  3.15484941e-01,  3.04746360e-01,\n",
       "        1.50070507e-02,  1.29709184e-01,  2.85087824e-02, -2.58072525e-01,\n",
       "       -1.81640573e-02, -2.32944891e-01,  1.16337582e-01,  5.28925955e-02,\n",
       "       -2.24528939e-01, -2.47662067e-01,  1.65597901e-01, -3.27762604e-01,\n",
       "        2.60241367e-02, -2.12806225e-01,  4.40406442e-01,  2.70233095e-01,\n",
       "        2.33044460e-01,  7.82659352e-02,  2.57113516e-01, -1.03660159e-01,\n",
       "       -3.20601575e-02,  1.61097750e-01, -1.62755698e-02, -7.12211728e-02,\n",
       "       -1.91681564e-01, -1.18391670e-01, -4.27941978e-02,  1.23717800e-01,\n",
       "        5.58395162e-02, -1.50550500e-01,  1.88685268e-01,  1.20308481e-01,\n",
       "       -7.04328194e-02, -1.93989664e-01,  1.94561929e-02,  1.98362768e-02,\n",
       "       -4.91191894e-02,  1.18073449e-01,  1.33609131e-01, -3.74969244e-02,\n",
       "        1.69446528e-01, -3.61550629e-01,  2.14955002e-01,  2.11941570e-01,\n",
       "        5.77002689e-02,  3.76921147e-04,  3.68409716e-02,  8.28062892e-02,\n",
       "        1.60127610e-01, -7.55543932e-02, -2.95049191e-01,  2.57875860e-01,\n",
       "       -2.78827161e-01,  2.71641817e-02,  2.81036496e-01, -6.95370510e-02,\n",
       "        1.07403204e-01,  1.22003153e-01,  3.75063449e-01, -9.59940106e-02,\n",
       "        6.06122315e-02,  2.34170526e-01, -1.52968496e-01,  8.25405419e-02,\n",
       "       -2.43449323e-02, -1.23100094e-01,  2.02219963e-01, -1.11351460e-01,\n",
       "        1.35558218e-01, -2.23655999e-01,  1.41359285e-01, -3.42430294e-01,\n",
       "        5.70711568e-02, -5.32460064e-02,  8.99515077e-02,  8.68893415e-03,\n",
       "       -8.03041458e-02,  9.34684351e-02, -1.12110235e-01,  3.00082624e-01])"
      ]
     },
     "execution_count": 24,
     "metadata": {},
     "output_type": "execute_result"
    }
   ],
   "source": [
    "doc_vec[0]"
   ]
  },
  {
   "cell_type": "markdown",
   "metadata": {},
   "source": [
    "## 建構食譜向量相似度計算"
   ]
  },
  {
   "cell_type": "code",
   "execution_count": 25,
   "metadata": {},
   "outputs": [],
   "source": [
    "def cosine_similarity(u:np.ndarray, v:np.ndarray):\n",
    "    assert(u.shape[0] == v.shape[0])\n",
    "    uv = 0\n",
    "    uu = 0\n",
    "    vv = 0\n",
    "    for i in range(u.shape[0]):\n",
    "        uv += u[i]*v[i]\n",
    "        uu += u[i]*u[i]\n",
    "        vv += v[i]*v[i]\n",
    "    cos_theta = 1\n",
    "    if uu!=0 and vv!=0:\n",
    "        cos_theta = uv/np.sqrt(uu*vv)\n",
    "        return cos_theta\n",
    "    else:\n",
    "        return 0"
   ]
  },
  {
   "cell_type": "code",
   "execution_count": 26,
   "metadata": {},
   "outputs": [
    {
     "name": "stdout",
     "output_type": "stream",
     "text": [
      "Training completed. It cost : 67.16245889663696 sec\n"
     ]
    }
   ],
   "source": [
    "cosine_nor = {}\n",
    "start = time.time()\n",
    "for idx,vec in enumerate(doc_vec):\n",
    "    cosine_nor[idx] = cosine_similarity(user_embedding,vec)\n",
    "\n",
    "end = time.time()\n",
    "print(f'Training completed. It cost : {end-start} sec')\n"
   ]
  },
  {
   "cell_type": "markdown",
   "metadata": {},
   "source": [
    "#### 引入numba套件，加速相似度計算 Speed up!"
   ]
  },
  {
   "cell_type": "code",
   "execution_count": 27,
   "metadata": {},
   "outputs": [],
   "source": [
    "from numba import jit\n",
    "\n",
    "@jit(nopython=True)\n",
    "def cosine_similarity_numba(u:np.ndarray, v:np.ndarray):\n",
    "    assert(u.shape[0] == v.shape[0])\n",
    "    uv = 0\n",
    "    uu = 0\n",
    "    vv = 0\n",
    "    for i in range(u.shape[0]):\n",
    "        uv += u[i]*v[i]\n",
    "        uu += u[i]*u[i]\n",
    "        vv += v[i]*v[i]\n",
    "    cos_theta = 1\n",
    "    if uu!=0 and vv!=0:\n",
    "        cos_theta = uv/np.sqrt(uu*vv)\n",
    "        return cos_theta\n",
    "    else:\n",
    "        return 0"
   ]
  },
  {
   "cell_type": "code",
   "execution_count": 29,
   "metadata": {},
   "outputs": [
    {
     "name": "stdout",
     "output_type": "stream",
     "text": [
      "Training completed. It cost : 0.17182397842407227 sec\n"
     ]
    }
   ],
   "source": [
    "cosine_numba = {}\n",
    "start = time.time()\n",
    "for idx,vec in enumerate(doc_vec):\n",
    "    cosine_numba[idx] = cosine_similarity_numba(user_embedding,vec)\n",
    "\n",
    "end = time.time()\n",
    "print(f'Training completed. It cost : {end-start} sec')\n"
   ]
  },
  {
   "cell_type": "code",
   "execution_count": 30,
   "metadata": {},
   "outputs": [],
   "source": [
    "election_list = sorted(cosine_numba.items(),key=lambda item: item[1],reverse=True)"
   ]
  },
  {
   "cell_type": "code",
   "execution_count": 31,
   "metadata": {},
   "outputs": [
    {
     "data": {
      "text/plain": [
       "[(172664, 0.9209676044635907),\n",
       " (119303, 0.8990107390180775),\n",
       " (17964, 0.8870879581130513),\n",
       " (10387, 0.8752018265458865),\n",
       " (21739, 0.8752018265458865),\n",
       " (24894, 0.8752018265458865),\n",
       " (67434, 0.8752018265458865),\n",
       " (70047, 0.8752018265458865),\n",
       " (81598, 0.8752018265458865),\n",
       " (100016, 0.8752018265458865)]"
      ]
     },
     "execution_count": 31,
     "metadata": {},
     "output_type": "execute_result"
    }
   ],
   "source": [
    "election_list[:10]"
   ]
  },
  {
   "cell_type": "code",
   "execution_count": 35,
   "metadata": {},
   "outputs": [
    {
     "name": "stdout",
     "output_type": "stream",
     "text": [
      "1 茄子肉醬茄子茄 0.921 {'洋蔥', '雞蛋', '茄子', '豬肉'}\n",
      "2 茄新法寶塔香茄船 0.899 {'雞蛋', '九層塔', '茄子', '豬肉'}\n",
      "3 椒鹽香茄 0.887 {'雞蛋', '茄子'}\n",
      "4 茄子肉捲 0.875 {'茄子', '豬肉'}\n",
      "5 茄子燒肉 0.875 {'茄子', '豬肉'}\n",
      "6 香煎紫茄燉青醬 0.875 {'茄子', '豬肉'}\n",
      "7 紫圓茄鑲肉 0.875 {'茄子', '豬肉'}\n",
      "8 兩茄子炒豬肉蘿蔔排骨湯 0.875 {'茄子', '豬肉'}\n",
      "9 涼拌雙色茄 0.875 {'茄子', '豬肉'}\n",
      "10 茄子肉片卷 0.875 {'茄子', '豬肉'}\n"
     ]
    }
   ],
   "source": [
    "for idx,each in enumerate(election_list[:10]):\n",
    "    recipe_id = each[0]\n",
    "    print(idx+1,recipe_name_list[recipe_id],round(each[1],3),each_ingredient_list[recipe_id])"
   ]
  },
  {
   "cell_type": "markdown",
   "metadata": {},
   "source": [
    "## 封裝成function"
   ]
  },
  {
   "cell_type": "code",
   "execution_count": 16,
   "metadata": {},
   "outputs": [],
   "source": [
    "# 封裝成function，把用戶所擁有食材轉換成向量, input為食材串列: [\"麵粉\",'抹茶',\"紅豆\"]\n",
    "def convert_vector(user_refri_list:list):\n",
    "    from UtilWordEmbedding import MeanEmbeddingVectorizer\n",
    "    \n",
    "    user_embedding = mean_vec_tr.transform([user_refri_list])\n",
    "    return user_embedding.reshape(100,)"
   ]
  },
  {
   "cell_type": "code",
   "execution_count": 17,
   "metadata": {},
   "outputs": [],
   "source": [
    "def calculate_similarity(user_vec:np.ndarray, doc_vec:np.ndarray):\n",
    "    \n",
    "    '''setting function to calculate cosine similarity with numba module'''\n",
    "    from numba import jit\n",
    "\n",
    "    @jit(nopython=True)\n",
    "    def cosine_similarity_numba(u:np.ndarray, v:np.ndarray):\n",
    "        assert(u.shape[0] == v.shape[0])\n",
    "        uv = 0\n",
    "        uu = 0\n",
    "        vv = 0\n",
    "        for i in range(u.shape[0]):\n",
    "            uv += u[i]*v[i]\n",
    "            uu += u[i]*u[i]\n",
    "            vv += v[i]*v[i]\n",
    "        cos_theta = 1\n",
    "        if uu!=0 and vv!=0:\n",
    "            cos_theta = uv/np.sqrt(uu*vv)\n",
    "            return cos_theta\n",
    "        else:\n",
    "            return 0\n",
    "    \n",
    "    \n",
    "    '''start calculating'''\n",
    "    cosine_numba = {}\n",
    "    for idx,vec in enumerate(doc_vec):\n",
    "        cosine_numba[idx] = cosine_similarity_numba(user_vec,vec)\n",
    "    \n",
    "    election_list = sorted(cosine_numba.items(),key=lambda item: item[1],reverse=True)\n",
    "    '''return only top 10 high similarity recipe'''\n",
    "    return election_list[:10]"
   ]
  },
  {
   "cell_type": "code",
   "execution_count": 18,
   "metadata": {},
   "outputs": [],
   "source": [
    "def get_recipe_info(user_sim_list):\n",
    "    for idx,each in enumerate(user_sim_list):\n",
    "        recipe_id = each[0]\n",
    "        yield (idx+1,recipe_name_list[recipe_id],round(each[1],3),each_ingredient_list[recipe_id])"
   ]
  },
  {
   "cell_type": "code",
   "execution_count": null,
   "metadata": {},
   "outputs": [],
   "source": [
    "user_vec = convert_vector([\"麵粉\",'抹茶',\"紅豆\",\"豬肉\",\"茄子\",'雞蛋','香蕉','洋蔥','蝦子'])"
   ]
  },
  {
   "cell_type": "code",
   "execution_count": null,
   "metadata": {},
   "outputs": [],
   "source": [
    "user_sim_list = calculate_similarity(user_vec,doc_vec)"
   ]
  },
  {
   "cell_type": "code",
   "execution_count": null,
   "metadata": {},
   "outputs": [],
   "source": [
    "recommend_recipe = get_recipe_info(user_sim_list)"
   ]
  },
  {
   "cell_type": "code",
   "execution_count": null,
   "metadata": {},
   "outputs": [],
   "source": [
    "list(recommend_recipe)"
   ]
  },
  {
   "cell_type": "code",
   "execution_count": null,
   "metadata": {},
   "outputs": [],
   "source": [
    "'''\n",
    "食譜推薦\n",
    "1.把食材列成串列\n",
    "2.將用戶冰箱食材轉換成一向量表示\n",
    "3.和所有食譜計算相似度\n",
    "4.依相似度取出前十高的食譜\n",
    "'''\n",
    "user_refri_list = [\"麵粉\",'鮮奶油','雞蛋','香蕉','洋蔥','蝦','藍苺','豬肉','高麗菜','抹茶']\n",
    "user_vec = convert_vector(user_refri_list)\n",
    "user_sim_list = calculate_similarity(user_vec,doc_vec)\n",
    "recommend_recipe = get_recipe_info(user_sim_list)\n",
    "# list(recommend_recipe)"
   ]
  },
  {
   "cell_type": "code",
   "execution_count": null,
   "metadata": {
    "scrolled": true
   },
   "outputs": [],
   "source": [
    "user_set = set(user_refri_list)\n",
    "for i in recommend_recipe:\n",
    "    b_set = set(i[3])\n",
    "    print(i[0:3])\n",
    "    print(f'所需食材:{b_set}, 已有食材:{b_set & user_set},尚缺:{b_set - user_set}')"
   ]
  },
  {
   "cell_type": "markdown",
   "metadata": {},
   "source": [
    "## 方向一: 同一食材只用一次\n",
    "1. 先用全部食材找尋相似食譜，再依排序找到完全符合的首個食譜，將其選出並把食材項扣除\n",
    "2. 若無完全符合就依排序推出缺漏食材數量最少的食譜，將其選出並把食材項扣除，且顯示缺少的食材\n",
    "3. 再把剩餘沒用的食材繼續尋找相似食譜，重複1-3步驟\n",
    "4. 最後若剩餘1~2樣食材時而不足以推薦時，則停止\n",
    "\n",
    "\n",
    "優點:最大化各樣食材的運用\n",
    "\n",
    "缺點:如果食材種類不多可能只能推1-2道食譜\n",
    "\n",
    "\n",
    "## 方向二: 同一食材可重複考慮使用\n",
    "1. 從全部食材隨機選取n項，尋找完全符合的食譜\n",
    "2. 若無完全符合，則重新執行步驟1，\n",
    "3. 若連續執行3次都沒full match時，啟動新機制:每次查詢都從排序中推出缺漏食材數量最少的食譜\n",
    "4. 重複執行，直到取得m道合適食譜為止\n",
    "\n",
    "\n",
    "優點:提供更多的變化性，讓用戶可以參考\n",
    "\n",
    "缺點:寫起來比較麻煩\n",
    "\n",
    "## 方向三: 不考慮這麼多\n",
    "1. 做一次用全部食材找尋相似食譜\n",
    "2. 直接推出前m個排名的食譜，且顯示缺少的食材(optional)\n",
    "3. End.\n",
    "\n",
    "\n",
    "優點: 不用考慮太多\n",
    "\n",
    "缺點: 隨便"
   ]
  },
  {
   "cell_type": "code",
   "execution_count": null,
   "metadata": {},
   "outputs": [],
   "source": []
  },
  {
   "cell_type": "markdown",
   "metadata": {},
   "source": [
    "### 測試階段"
   ]
  },
  {
   "cell_type": "code",
   "execution_count": 39,
   "metadata": {},
   "outputs": [
    {
     "name": "stdout",
     "output_type": "stream",
     "text": [
      "已為您找到第1道食譜: 紅椒鹹派\n",
      "所需食材: {'番茄', '洋蔥', '甜椒', '蛋黃', '麵粉', '豬肉', '雞蛋', '鮮奶油'}, 有缺食材: {'甜椒', '蛋黃'}\n",
      "已為您找到第2道食譜: 藍莓雪糕\n",
      "所需食材: {'藍苺', '香蕉'}\n",
      "已為您找到第3道食譜: 櫻花蝦炒高麗菜一盤家常菜\n",
      "所需食材: {'大蒜', '蝦', '高麗菜'}\n",
      "食材不足,停止提供推薦...\n"
     ]
    }
   ],
   "source": [
    "# 實作方向一\n",
    "\n",
    "user_refri_list = [\"麵粉\",'鮮奶油','雞蛋','香蕉','洋蔥','蝦','藍苺','豬肉','高麗菜','番茄','大蒜']\n",
    "\n",
    "selected_number = 1\n",
    "while True:\n",
    "    user_set = set(user_refri_list)\n",
    "    if len(user_set) < 2:\n",
    "        try:\n",
    "            print(f'食材不足,只剩下{user_set.pop()},停止提供推薦...')\n",
    "            break\n",
    "        except KeyError:\n",
    "            print(f'食材不足,停止提供推薦...')\n",
    "            break\n",
    "    user_vec = convert_vector(user_set)\n",
    "    user_sim_list = calculate_similarity(user_vec,doc_vec)\n",
    "    recom_list = list(get_recipe_info(user_sim_list))\n",
    "    \n",
    "    waiting_recipe = ''  #存放待定食譜 \n",
    "    for idx,each_selected in enumerate(recom_list):\n",
    "        recipe_set = each_selected[3]\n",
    "        ing_diff = recipe_set - user_set\n",
    "        \n",
    "        # 判定條件: recipe_set裡面是否有不在user_set內的食材,若無則回傳set(), if判定False\n",
    "        if not ing_diff:\n",
    "            print(f\"已為您找到第{selected_number}道食譜: {each_selected[1]}\")\n",
    "            print(f'所需食材: {recipe_set}')\n",
    "            user_refri_list = user_set - recipe_set\n",
    "            break\n",
    "        \n",
    "        # enter if not full matched\n",
    "        else:\n",
    "            if not len(waiting_recipe):\n",
    "                waiting_recipe = each_selected + (ing_diff,)\n",
    "                continue\n",
    "            elif len(waiting_recipe[-1]) > len(ing_diff):    # 如果該食譜缺漏食材數更少，就把待定食譜換成此食譜\n",
    "                waiting_recipe = each_selected + (ing_diff,)\n",
    "                continue\n",
    "        \n",
    "        # 拜訪完全部食譜，都沒有完全match的\n",
    "        if idx+1 == len(recom_list):\n",
    "            print(f\"已為您找到第{selected_number}道食譜: {waiting_recipe[1]}\")\n",
    "            print(f'所需食材: {waiting_recipe[3]}, 有缺食材: {waiting_recipe[-1]}')\n",
    "            user_refri_list = user_set - set(waiting_recipe[3])\n",
    "            break\n",
    "    \n",
    "    selected_number += 1"
   ]
  },
  {
   "cell_type": "code",
   "execution_count": 40,
   "metadata": {
    "scrolled": true
   },
   "outputs": [
    {
     "name": "stdout",
     "output_type": "stream",
     "text": [
      "已為您找到第1道食譜: 櫻花蝦炒蛋\n",
      "所需食材: {'雞蛋', '洋蔥', '蝦'}\n",
      "已為您找到第2道食譜: 藍莓雪糕\n",
      "所需食材: {'藍苺', '香蕉'}\n",
      "已為您找到第3道食譜: 豬肉番茄高麗菜\n",
      "所需食材: {'大蒜', '豬肉', '高麗菜', '番茄'}\n",
      "已為您找到第4道食譜: 高麗菜煎餅素食可\n",
      "所需食材: {'高麗菜', '麵粉'}\n",
      "已為您找到第5道食譜: 應急好幫手白醬\n",
      "所需食材: {'洋蔥', '鮮奶油', '麵粉'}\n",
      "已完成5道食譜推薦...\n"
     ]
    }
   ],
   "source": [
    "# 實作方向二 version 1, 此為只推出完全符合的食譜\n",
    "\n",
    "from random import sample,randint\n",
    "user_refri_list = [\"麵粉\",'鮮奶油','雞蛋','香蕉','洋蔥','蝦','藍苺','豬肉','高麗菜','番茄','大蒜']\n",
    "recipe_number = 5\n",
    "selected_number = 1\n",
    "recommend_recipe_name = set()\n",
    "while True:\n",
    "    if selected_number == recipe_number + 1:\n",
    "        print(f'已完成{recipe_number}道食譜推薦...')\n",
    "        break\n",
    "    \n",
    "    user_set = set(sample(user_refri_list,randint(2,len(user_refri_list))))\n",
    "    user_vec = convert_vector(user_set)\n",
    "    user_sim_list = calculate_similarity(user_vec,doc_vec)\n",
    "    recom_list = list(get_recipe_info(user_sim_list))\n",
    "    \n",
    "    for idx,each_selected in enumerate(recom_list):\n",
    "        recipe_set = each_selected[3]\n",
    "        ing_diff = recipe_set - user_set\n",
    "        if each_selected[1] in recommend_recipe_name:\n",
    "            continue\n",
    "        \n",
    "        # 判定條件: recipe_set裡面是否有不在user_set內的食材,若無則回傳set(), if判定False\n",
    "        if not ing_diff:\n",
    "            print(f\"已為您找到第{selected_number}道食譜: {each_selected[1]}\")\n",
    "            print(f'所需食材: {recipe_set}')\n",
    "            selected_number += 1\n",
    "            recommend_recipe_name.add(each_selected[1])\n",
    "            break"
   ]
  },
  {
   "cell_type": "code",
   "execution_count": 41,
   "metadata": {},
   "outputs": [
    {
     "name": "stdout",
     "output_type": "stream",
     "text": [
      "已為您找到第1道食譜: 德國香腸\n",
      "所需食材: {'洋蔥', '豬肉'}\n",
      "已為您找到第2道食譜: 焦糖香蕉蛋糕七吋咕咕霍\n",
      "所需食材: {'藍苺', '香蕉', '麵粉', '雞蛋', '鮮奶油'}\n",
      "已為您找到第3道食譜: 焦糖風味香蕉蛋糕\n",
      "所需食材: {'雞蛋', '香蕉', '麵粉', '鮮奶油'}\n",
      "已為您找到第4道食譜: 微麻油麵線\n",
      "所需食材: {'高麗菜', '豬肉'}\n",
      "已為您找到第5道食譜: 蕃茄高麗菜炒蛋\n",
      "所需食材: {'雞蛋', '高麗菜', '大蒜', '番茄'}\n",
      "已完成5道食譜推薦...\n"
     ]
    }
   ],
   "source": [
    "# 實作方向二 version 2, 若連續3次都無法順利找到完全符合的食譜，則從該次開始推出缺少食材數最少的食譜\n",
    "from random import sample,randint\n",
    "user_refri_list = [\"麵粉\",'鮮奶油','雞蛋','香蕉','洋蔥','蝦','藍苺','豬肉','高麗菜','番茄','大蒜']\n",
    "\n",
    "'''\n",
    "步驟分解\n",
    "1. 隨機選出不定數量的食材組合成一向量\n",
    "2. 以此向量計算食譜相似度，得到一個以相似度高低排序過的清單\n",
    "3. 將清單內的食譜食材一一和用戶擁有食材比對\n",
    "4. 如果有完全符合食材需求的食譜就推薦出來，若無就pass\n",
    "5. 該清單比對完後進行下一輪，重複步驟1-5\n",
    "6. 若連續三輪都找不到完全符合食材需求的食譜，則從次輪開始進入快速推薦\n",
    "6-1. 快速推薦: 每一輪必推薦一道食譜，如果有完全符合的則優先，若無則推薦食材缺少數最低的食譜\n",
    "7. 直到推薦清單達到設定值後便停止推薦\n",
    "'''\n",
    "\n",
    "recipe_number = 5\n",
    "selected_number = 1\n",
    "not_found_count = 0\n",
    "recommend_recipe_name = set()\n",
    "while True:\n",
    "    if selected_number == recipe_number + 1:\n",
    "        print(f'已完成{recipe_number}道食譜推薦...')\n",
    "        break\n",
    "        \n",
    "    user_set = set(user_refri_list)\n",
    "    random_set = set(sample(user_refri_list,randint(2,len(user_refri_list))))\n",
    "    user_vec = convert_vector(random_set)\n",
    "    user_sim_list = calculate_similarity(user_vec,doc_vec)\n",
    "    recom_list = list(get_recipe_info(user_sim_list))\n",
    "    \n",
    "    \n",
    "    for idx,each_selected in enumerate(recom_list):\n",
    "        recipe_set = each_selected[3]\n",
    "        ing_diff = recipe_set - user_set\n",
    "        if each_selected[1] in recommend_recipe_name:\n",
    "            continue\n",
    "        \n",
    "        # 判定條件: recipe_set裡面是否有不在user_set內的食材,若無則回傳set(), if判定False\n",
    "        if not ing_diff:\n",
    "            print(f\"已為您找到第{selected_number}道食譜: {each_selected[1]}\")\n",
    "            print(f'所需食材: {recipe_set}')\n",
    "            selected_number += 1\n",
    "            not_found_count = 0\n",
    "            recommend_recipe_name.add(each_selected[1])\n",
    "            break\n",
    "        else:\n",
    "            pass\n",
    "    \n",
    "        if idx+1 == len(recom_list):\n",
    "            not_found_count += 1\n",
    "    \n",
    "    \n",
    "    # 判斷是否進入快速推薦\n",
    "    if not_found_count >= 3:\n",
    "        print('連續3次無法推薦完全符合的食譜，進入第二階段快速推薦')\n",
    "        for i in range(recipe_number-selected_number+1):\n",
    "            while True:\n",
    "                quick_recipe = quick_recommend(user_refri_list,doc_vec)\n",
    "                if quick_recipe[1] not in recommend_recipe_name:\n",
    "                    break\n",
    "            print(f\"已為您找到第{selected_number}道食譜: {quick_recipe[1]}\")\n",
    "            try:\n",
    "                print(f'所需食材: {quick_recipe[3]}, 有缺食材: {quick_recipe[4]}')\n",
    "            except IndexError:\n",
    "                print(f'{quick_recipe[3]}full matched.')\n",
    "            selected_number += 1\n",
    "            recommend_recipe_name.add(quick_recipe[1])\n",
    "\n",
    "        break\n",
    "            \n",
    "    else:\n",
    "        continue"
   ]
  },
  {
   "cell_type": "code",
   "execution_count": 23,
   "metadata": {},
   "outputs": [],
   "source": [
    "def quick_recommend(user_refri_list,recipe_vec=doc_vec):\n",
    "    user_set = set(user_refri_list)\n",
    "    random_set = set(sample(user_refri_list,randint(2,len(user_refri_list))))\n",
    "    user_vec = convert_vector(random_set)\n",
    "    user_sim_list = calculate_similarity(user_vec,doc_vec)\n",
    "    recom_list = list(get_recipe_info(user_sim_list))\n",
    "    \n",
    "    waiting_recipe = ''  #存放待定食譜 \n",
    "    for idx,each_selected in enumerate(recom_list):\n",
    "        recipe_set = each_selected[3]\n",
    "        ing_diff = recipe_set - user_set\n",
    "        \n",
    "        if not ing_diff:\n",
    "            return each_selected\n",
    "\n",
    "        else:\n",
    "            if not len(waiting_recipe):\n",
    "                waiting_recipe = each_selected + (ing_diff,)\n",
    "                continue\n",
    "            elif len(waiting_recipe[-1]) > len(ing_diff):    # 如果該食譜缺漏食材數更少，就把待定食譜換成此食譜\n",
    "                waiting_recipe = each_selected + (ing_diff,)\n",
    "                continue\n",
    "        \n",
    "    return waiting_recipe"
   ]
  },
  {
   "cell_type": "code",
   "execution_count": 43,
   "metadata": {},
   "outputs": [
    {
     "name": "stdout",
     "output_type": "stream",
     "text": [
      "(4, '義式茄汁肉醬', 0.857, {'番茄', '洋蔥', '豬肉', '大蒜', '麵粉', '酒類'}, {'酒類'})\n",
      "(1, '藍莓雪糕', 1.0, {'藍苺', '香蕉'})\n",
      "(1, '應急好幫手白醬', 0.867, {'洋蔥', '鮮奶油', '麵粉'})\n",
      "(2, '老風味瓜仔蒸肉', 0.873, {'麵粉', '大蒜', '豬肉'})\n",
      "(1, '綠藤芽花生醬香蕉精力湯', 0.822, {'香蕉', '高麗菜'})\n"
     ]
    }
   ],
   "source": [
    "# quick_recommend test\n",
    "user_refri_list = [\"麵粉\",'鮮奶油','雞蛋','香蕉','洋蔥','蝦','藍苺','豬肉','高麗菜','番茄','大蒜']\n",
    "for i in range(5):\n",
    "    print(quick_recommend(user_refri_list,recipe_vec=doc_vec))"
   ]
  },
  {
   "cell_type": "code",
   "execution_count": null,
   "metadata": {},
   "outputs": [],
   "source": []
  },
  {
   "cell_type": "markdown",
   "metadata": {},
   "source": [
    "### 包裝成function"
   ]
  },
  {
   "cell_type": "code",
   "execution_count": 19,
   "metadata": {},
   "outputs": [],
   "source": [
    "# function實作方向一\n",
    "\n",
    "\n",
    "def refrigerator_cleaner(user_refri_list,doc_vec):\n",
    "    '''\n",
    "    user_refri_list: 使用者所擁有的所有食材\n",
    "    doc_vec: 全食譜的食譜向量(numpy array)\n",
    "    ----------------------------------------------------------\n",
    "    此方法為持有食材之使用最大化的食譜推薦系統\n",
    "    步驟分解\n",
    "    1. 試圖用全部食材組成一向量\n",
    "    2. 以此向量計算食譜相似度，得到一個以相似度高低排序過的清單\n",
    "    3. 將清單內的食譜食材一一和用戶擁有食材比對\n",
    "    4. 如果有完全符合食材需求的食譜就進行推薦\n",
    "    5. 若無，則推薦缺漏食材數最少的食譜\n",
    "    6. 推薦完食譜後扣除使用食材，再以剩餘食材組成一向量，重複步驟2-6\n",
    "    7. 一直推薦到剩餘食材少於2樣時停止推薦\n",
    "    '''\n",
    "    selected_number = 1\n",
    "    while True:\n",
    "        user_set = set(user_refri_list)\n",
    "        if len(user_set) < 2:\n",
    "            try:\n",
    "                print(f'食材不足,只剩下{user_set.pop()},停止提供推薦...')\n",
    "                break\n",
    "            except KeyError:\n",
    "                print(f'食材不足,停止提供推薦...')\n",
    "                break\n",
    "        user_vec = convert_vector(user_set)\n",
    "        user_sim_list = calculate_similarity(user_vec,doc_vec)\n",
    "        recom_list = list(get_recipe_info(user_sim_list))\n",
    "\n",
    "        waiting_recipe = ''  #存放待定食譜 \n",
    "        for idx,each_selected in enumerate(recom_list):\n",
    "            recipe_set = each_selected[3]\n",
    "            ing_diff = recipe_set - user_set\n",
    "\n",
    "            # 判定條件: recipe_set裡面是否有不在user_set內的食材,若無則回傳set(), if判定False\n",
    "            if not ing_diff:\n",
    "                print(f\"已為您找到第{selected_number}道食譜: {each_selected[1]}\")\n",
    "                print(f'所需食材: {recipe_set}')\n",
    "                user_refri_list = user_set - recipe_set\n",
    "                break\n",
    "\n",
    "            # enter if not full matched\n",
    "            else:\n",
    "                if not len(waiting_recipe):\n",
    "                    waiting_recipe = each_selected + (ing_diff,)    # 資料以tuple型態表示\n",
    "                    continue\n",
    "                elif len(waiting_recipe[-1]) > len(ing_diff):    # 如果該食譜缺漏食材數更少，就把待定食譜換成此食譜\n",
    "                    waiting_recipe = each_selected + (ing_diff,)\n",
    "                    continue\n",
    "\n",
    "            # 拜訪完全部食譜，都沒有完全match的\n",
    "            if idx+1 == len(recom_list):\n",
    "                print(f\"已為您找到第{selected_number}道食譜: {waiting_recipe[1]}\")\n",
    "                print(f'所需食材: {waiting_recipe[3]}, 有缺食材: {waiting_recipe[-1]}')\n",
    "                user_refri_list = user_set - waiting_recipe[3]\n",
    "                break\n",
    "\n",
    "        selected_number += 1"
   ]
  },
  {
   "cell_type": "code",
   "execution_count": 27,
   "metadata": {
    "scrolled": true
   },
   "outputs": [],
   "source": [
    "# function實作方向二 version 2, 若連續3次都無法順利找到完全符合的食譜，則從該次開始推出缺少食材數最少的食譜\n",
    "from random import sample,randint\n",
    "\n",
    "def recipe_recommend_system(user_refri_list,doc_vec,recipe_number=5):\n",
    "    '''\n",
    "    user_refri_list: 使用者所擁有的所有食材\n",
    "    doc_vec: 全食譜的食譜向量(numpy array)\n",
    "    ----------------------------------------------------------\n",
    "    recipe_number: 期望推薦的食譜數量，預設為10道\n",
    "    此方法為從持有食材隨機抽樣進行推薦的系統\n",
    "    步驟分解\n",
    "    1. 隨機選出不定數量的食材組合成一向量\n",
    "    2. 以此向量計算食譜相似度，得到一個以相似度高低排序過的清單\n",
    "    3. 將清單內的食譜食材一一和用戶擁有食材比對\n",
    "    4. 如果有完全符合食材需求的食譜就推薦出來，若無就pass\n",
    "    5. 該清單比對完後進行下一輪，重複步驟1-5\n",
    "    6. 若連續三輪都找不到完全符合食材需求的食譜，則從次輪開始進入快速推薦\n",
    "    6-1. 快速推薦: 每一輪必推薦一道食譜，如果有完全符合的則優先，若無則推薦食材缺少數最低的食譜\n",
    "    7. 直到推薦清單達到設定值後便停止推薦\n",
    "    '''\n",
    "\n",
    "    selected_number = 1\n",
    "    not_found_count = 0\n",
    "    recommend_recipe_name = set()\n",
    "    while True:\n",
    "        if selected_number == recipe_number + 1:\n",
    "            print(f'已完成{recipe_number}道食譜推薦...')\n",
    "            break\n",
    "\n",
    "        user_set = set(user_refri_list)\n",
    "        random_set = sample(user_refri_list,randint(2,len(user_refri_list)))\n",
    "        user_vec = convert_vector(random_set)\n",
    "        user_sim_list = calculate_similarity(user_vec,doc_vec)\n",
    "        recom_list = list(get_recipe_info(user_sim_list))\n",
    "\n",
    "\n",
    "        for idx,each_selected in enumerate(recom_list):\n",
    "            recipe_set = each_selected[3]\n",
    "            ing_diff = recipe_set - user_set\n",
    "            if each_selected[1] in recommend_recipe_name:\n",
    "                continue\n",
    "\n",
    "            # 判定條件: recipe_set裡面是否有不在user_set內的食材,若無則回傳set(), if判定False\n",
    "            if not ing_diff:\n",
    "                print(f\"已為您找到第{selected_number}道食譜: {each_selected[1]}\")\n",
    "                print(f'所需食材: {recipe_set}')\n",
    "                selected_number += 1\n",
    "                not_found_count = 0\n",
    "                recommend_recipe_name.add(each_selected[1])\n",
    "                break\n",
    "            else:\n",
    "                pass\n",
    "\n",
    "            if idx+1 == len(recom_list):\n",
    "                not_found_count += 1\n",
    "\n",
    "\n",
    "        # 判斷是否進入快速推薦\n",
    "        if not_found_count >= 3:\n",
    "            print('連續3次無法推薦完全符合的食譜，進入第二階段快速推薦')\n",
    "            for i in range(recipe_number-selected_number+1):\n",
    "                while True:\n",
    "                    quick_recipe = quick_recommend(user_refri_list,doc_vec)\n",
    "                    if quick_recipe[1] not in recommend_recipe_name:\n",
    "                        break\n",
    "                print(f\"已為您找到第{selected_number}道食譜: {quick_recipe[1]}\")\n",
    "                try:\n",
    "                    print(f'所需食材: {quick_recipe[3]}, 有缺食材: {quick_recipe[4]}')\n",
    "                except IndexError:\n",
    "                    print(f'{quick_recipe[3]}full matched.')\n",
    "                selected_number += 1\n",
    "                recommend_recipe_name.add(quick_recipe[1])\n",
    "\n",
    "            break\n",
    "\n",
    "        else:\n",
    "            continue"
   ]
  },
  {
   "cell_type": "markdown",
   "metadata": {},
   "source": [
    "### 結果呈現1. 冰箱清洗者"
   ]
  },
  {
   "cell_type": "code",
   "execution_count": 50,
   "metadata": {
    "scrolled": true
   },
   "outputs": [
    {
     "name": "stdout",
     "output_type": "stream",
     "text": [
      "已為您找到第1道食譜: 焦糖香蕉蛋糕七吋咕咕霍\n",
      "所需食材: {'藍苺', '香蕉', '麵粉', '雞蛋', '鮮奶油'}\n",
      "已為您找到第2道食譜: 明蝦套餐小確幸\n",
      "所需食材: {'蝦', '洋蔥', '大蒜', '豬肉', '高麗菜'}\n",
      "已為您找到第3道食譜: 馬鈴薯手搓甜湯圓\n",
      "所需食材: {'太白粉', '抹茶', '馬鈴薯'}, 有缺食材: {'馬鈴薯'}\n",
      "食材不足,只剩下番茄,停止提供推薦...\n"
     ]
    }
   ],
   "source": [
    "user_refri_list = [\"麵粉\",'鮮奶油','雞蛋','香蕉','洋蔥','蝦','藍苺','豬肉','高麗菜','番茄','大蒜','抹茶',\"太白粉\"]\n",
    "refrigerator_cleaner(user_refri_list,doc_vec)"
   ]
  },
  {
   "cell_type": "markdown",
   "metadata": {},
   "source": [
    "### 結果呈現2. 無節制瘋狂推薦"
   ]
  },
  {
   "cell_type": "code",
   "execution_count": 28,
   "metadata": {},
   "outputs": [
    {
     "name": "stdout",
     "output_type": "stream",
     "text": [
      "已為您找到第1道食譜: 夏季藍莓水果冰淇淋薄餅捲\n",
      "所需食材: {'雞蛋', '香蕉', '藍苺', '麵粉'}\n",
      "已為您找到第2道食譜: 肉末番茄蛋\n",
      "所需食材: {'番茄', '雞蛋', '大蒜', '豬肉'}\n",
      "已為您找到第3道食譜: 焦糖風味香蕉蛋糕\n",
      "所需食材: {'雞蛋', '香蕉', '鮮奶油', '麵粉'}\n",
      "已為您找到第4道食譜: 無奶油微糖抹茶椰子餅\n",
      "所需食材: {'抹茶', '麵粉'}\n",
      "已為您找到第5道食譜: 藍莓雪糕\n",
      "所需食材: {'香蕉', '藍苺'}\n",
      "已為您找到第6道食譜: 日式和風香蕉煎餅\n",
      "所需食材: {'雞蛋', '香蕉', '鮮奶油', '麵粉'}\n",
      "已為您找到第7道食譜: 雙如爸快煮香蕉\n",
      "所需食材: {'雞蛋', '香蕉', '藍苺'}\n",
      "已為您找到第8道食譜: 蕃茄炒蛋蕃茄醬\n",
      "所需食材: {'雞蛋', '太白粉', '番茄'}\n",
      "已為您找到第9道食譜: 焦糖香蕉蛋糕七吋咕咕霍\n",
      "所需食材: {'雞蛋', '鮮奶油', '香蕉', '藍苺', '麵粉'}\n",
      "已為您找到第10道食譜: 應急好幫手白醬\n",
      "所需食材: {'洋蔥', '鮮奶油', '麵粉'}\n",
      "已完成10道食譜推薦...\n"
     ]
    }
   ],
   "source": [
    "user_refri_list = [\"麵粉\",'鮮奶油','雞蛋','香蕉','洋蔥','蝦','藍苺','豬肉','高麗菜','番茄','大蒜','抹茶',\"太白粉\"]\n",
    "recipe_recommend_system(user_refri_list,doc_vec,10)"
   ]
  },
  {
   "cell_type": "code",
   "execution_count": 26,
   "metadata": {},
   "outputs": [
    {
     "data": {
      "text/plain": [
       "['洋蔥', '抹茶']"
      ]
     },
     "execution_count": 26,
     "metadata": {},
     "output_type": "execute_result"
    }
   ],
   "source": [
    "sample(user_refri_list,2)"
   ]
  },
  {
   "cell_type": "code",
   "execution_count": null,
   "metadata": {},
   "outputs": [],
   "source": []
  }
 ],
 "metadata": {
  "kernelspec": {
   "display_name": "Python 3",
   "language": "python",
   "name": "python3"
  },
  "language_info": {
   "codemirror_mode": {
    "name": "ipython",
    "version": 3
   },
   "file_extension": ".py",
   "mimetype": "text/x-python",
   "name": "python",
   "nbconvert_exporter": "python",
   "pygments_lexer": "ipython3",
   "version": "3.7.9"
  }
 },
 "nbformat": 4,
 "nbformat_minor": 4
}
