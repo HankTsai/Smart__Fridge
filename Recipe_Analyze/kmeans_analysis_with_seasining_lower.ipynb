{
 "cells": [
  {
   "cell_type": "code",
   "execution_count": null,
   "metadata": {},
   "outputs": [],
   "source": [
    "import json\n",
    "import pprint"
   ]
  },
  {
   "cell_type": "code",
   "execution_count": null,
   "metadata": {},
   "outputs": [],
   "source": [
    "with open('./dataset/recipe0928_V5.json', 'r', encoding='utf-8') as f:\n",
    "    content = json.loads(f.read())"
   ]
  },
  {
   "cell_type": "code",
   "execution_count": null,
   "metadata": {},
   "outputs": [],
   "source": [
    "#content[:5]"
   ]
  },
  {
   "cell_type": "code",
   "execution_count": null,
   "metadata": {},
   "outputs": [],
   "source": [
    "total_i_list = []\n",
    "for each_recipe in content:\n",
    "    each_i_list =[]\n",
    "    for each_i in each_recipe['ingredient']:\n",
    "        each_i_list.append(each_i[0])\n",
    "    for each_s in each_recipe['seasoning']:\n",
    "        each_i_list.append(each_s[0])\n",
    "    #print(each_i_list)\n",
    "    total_i_list.append(each_i_list)\n",
    "total_i_list"
   ]
  },
  {
   "cell_type": "code",
   "execution_count": null,
   "metadata": {},
   "outputs": [],
   "source": [
    "from mlxtend.preprocessing import TransactionEncoder\n",
    "import pandas as pd"
   ]
  },
  {
   "cell_type": "code",
   "execution_count": null,
   "metadata": {},
   "outputs": [],
   "source": [
    "#Transform data to pandas DataFrame as apriori function requests (to only TRUE/FALSE for higher effeiciency)\n",
    "te = TransactionEncoder()\n",
    "te_ary = te.fit(total_i_list).transform(total_i_list)\n",
    "te_ary = te_ary.astype(\"int\")"
   ]
  },
  {
   "cell_type": "code",
   "execution_count": null,
   "metadata": {},
   "outputs": [],
   "source": [
    "df = pd.DataFrame(te_ary, columns=te.columns_)\n",
    "df"
   ]
  },
  {
   "cell_type": "code",
   "execution_count": null,
   "metadata": {},
   "outputs": [],
   "source": [
    "from sklearn import preprocessing\n",
    "'''\n",
    "preprocessing.scale()是按照列进行标准化计算，计算公式为:\n",
    "(X_train[:,0]-X_train[:,0].mean())/X_train[:,0].std()\n",
    "(X_train[:,0]-np.mean(X_train[:,0]))/np.std(X_train[:,0])//或者\n",
    "'''\n",
    "X_scaled = preprocessing.scale(df)  # scale操作之后的数据零均值，单位方差（方差为1）\n",
    "X_scaled[0:5]"
   ]
  },
  {
   "cell_type": "code",
   "execution_count": null,
   "metadata": {},
   "outputs": [],
   "source": [
    "# 进行PCA数据降维\n",
    "from sklearn.decomposition import PCA\n",
    " \n",
    "# 生成PCA实例\n",
    "#pca = PCA(n_components=296) # 把维度降至1/3 -296维\n",
    "pca = PCA(n_components=90) \n",
    "# 进行PCA降维\n",
    "X_pca = pca.fit_transform(X_scaled)\n",
    "\n",
    "# 生成降维后的dataframe\n",
    "X_pca_frame = pd.DataFrame(X_pca)  \n",
    "X_pca_frame"
   ]
  },
  {
   "cell_type": "code",
   "execution_count": null,
   "metadata": {},
   "outputs": [],
   "source": [
    "from sklearn.cluster import KMeans\n",
    "from sklearn import metrics\n",
    "from sklearn.metrics import silhouette_score\n",
    "import matplotlib.pyplot as plt"
   ]
  },
  {
   "cell_type": "code",
   "execution_count": null,
   "metadata": {},
   "outputs": [],
   "source": [
    "silhouette_avg = []\n",
    "for i in range(2,11):\n",
    "    clf = KMeans(n_clusters=i)\n",
    "    kmeans_fit = clf.fit(X_pca_frame)\n",
    "    silhouette_avg.append(silhouette_score(X_pca_frame, kmeans_fit.labels_))"
   ]
  },
  {
   "cell_type": "code",
   "execution_count": null,
   "metadata": {},
   "outputs": [],
   "source": [
    "plt.plot(range(2,11), silhouette_avg)"
   ]
  },
  {
   "cell_type": "code",
   "execution_count": null,
   "metadata": {},
   "outputs": [],
   "source": [
    "clf = KMeans(n_clusters=4)\n",
    "kmeans_fit = clf.fit(X_pca_frame)\n",
    "print(kmeans_fit.labels_)\n",
    "kmeans_clustering_labels = pd.DataFrame(kmeans_fit.labels_, columns=['cluster'])\n",
    "print(kmeans_clustering_labels)"
   ]
  },
  {
   "cell_type": "code",
   "execution_count": null,
   "metadata": {},
   "outputs": [],
   "source": [
    "recipe_name_list = []\n",
    "for each_recipe in content:\n",
    "    recipe_name_list.append(each_recipe['recipe'])\n",
    "\n",
    "recipe_name = pd.Series(recipe_name_list)\n",
    "recipe_name"
   ]
  },
  {
   "cell_type": "code",
   "execution_count": null,
   "metadata": {},
   "outputs": [],
   "source": [
    "recipe_cluster = pd.concat([recipe_name,df, kmeans_clustering_labels], axis=1)\n",
    "recipe_cluster"
   ]
  },
  {
   "cell_type": "code",
   "execution_count": null,
   "metadata": {},
   "outputs": [],
   "source": [
    "recipe_cluster[recipe_cluster['cluster']== 0]  #取出cluster為0的食譜"
   ]
  },
  {
   "cell_type": "code",
   "execution_count": null,
   "metadata": {},
   "outputs": [],
   "source": [
    "item_name = list(recipe_cluster.columns)  #889種食材名\n",
    "del item_name[0]\n",
    "del item_name[-1]\n",
    "\n",
    "sum_in_cluster = [(recipe_cluster[recipe_cluster['cluster']== 0].iloc[:,num]).sum() for num in range(1,890)]  #每種食材出現次數總和(cluster=0時)\n",
    "sum_in_cluster\n",
    "len(sum_in_cluster)"
   ]
  },
  {
   "cell_type": "code",
   "execution_count": null,
   "metadata": {},
   "outputs": [],
   "source": [
    "len(item_name)"
   ]
  },
  {
   "cell_type": "code",
   "execution_count": null,
   "metadata": {},
   "outputs": [],
   "source": [
    "#方法二: 手刻文字雲需要的input-字串 (同等以下『' '.join(all)』)\n",
    "\n",
    "_str = ''\n",
    "for i in range(676):\n",
    "    count = sum_in_cluster[i]\n",
    "    for j in range(count):\n",
    "        _str += item_name[i] + ' '"
   ]
  },
  {
   "cell_type": "code",
   "execution_count": null,
   "metadata": {},
   "outputs": [],
   "source": [
    "#方法一\n",
    "#step1: 從dataframe抓出食譜名及所屬cluster\n",
    "cluster = list(recipe_cluster['cluster'])\n",
    "re_name = list(recipe_cluster[0])"
   ]
  },
  {
   "cell_type": "code",
   "execution_count": null,
   "metadata": {},
   "outputs": [],
   "source": [
    "#step2:製作食譜及所屬cluster字典\n",
    "cluster_dic = dict()  \n",
    "for each in range(len(cluster)):\n",
    "    cluster_dic[re_name[each]] = cluster[each]\n",
    "cluster_dic"
   ]
  },
  {
   "cell_type": "code",
   "execution_count": null,
   "metadata": {},
   "outputs": [],
   "source": [
    "cluster_catagories = [{},{},{},{}]\n",
    "for k in range(4):\n",
    "    a = cluster_catagories[k]\n",
    "    a[k] = []\n",
    "print(cluster_catagories)\n",
    "    \n",
    "    \n",
    "\n",
    "for r,c in cluster_dic.items():\n",
    "    for k in range(4):\n",
    "        if c == k:\n",
    "            cluster_catagories[k][k].append(r)\n",
    "cluster_catagories   \n",
    "\n",
    "for i in range(4):\n",
    "    with open('./output/kmeans_with_seasoning_recipe_lower/cluster%s.txt'%(i),'w', encoding='utf-8') as f:\n",
    "        f.write(str(cluster_catagories[i][i]))"
   ]
  },
  {
   "cell_type": "code",
   "execution_count": null,
   "metadata": {},
   "outputs": [],
   "source": [
    "import pprint"
   ]
  },
  {
   "cell_type": "code",
   "execution_count": null,
   "metadata": {},
   "outputs": [],
   "source": [
    "#step3:將cluster加進原食譜\n",
    "for i in content:    \n",
    "    if i['recipe'] in list(cluster_dic.keys()):\n",
    "        #print(i['recipe'])\n",
    "        i['cluster_num'] = cluster_dic[i['recipe']]\n",
    "#pprint.pprint(content[:10])"
   ]
  },
  {
   "cell_type": "code",
   "execution_count": null,
   "metadata": {
    "scrolled": true
   },
   "outputs": [],
   "source": [
    "#step4:抓出指定cluster中的食材做成串列\n",
    "all = []\n",
    "for i in content:\n",
    "    if i['cluster_num'] == 0:\n",
    "        for each_item in i['ingredient']:\n",
    "            all.append(each_item[0])\n",
    "           "
   ]
  },
  {
   "cell_type": "code",
   "execution_count": null,
   "metadata": {
    "scrolled": true
   },
   "outputs": [],
   "source": [
    "!pip install wordcloud"
   ]
  },
  {
   "cell_type": "code",
   "execution_count": null,
   "metadata": {
    "scrolled": true
   },
   "outputs": [],
   "source": [
    "from wordcloud import WordCloud\n",
    "import matplotlib.pyplot as plt\n",
    "\n",
    "def plot_wordcloud(text, title=None, max = 1000, size=(12,8), title_size=16):\n",
    "    \"\"\"plots wordcloud\"\"\"\n",
    "    wordcloud = WordCloud(max_words=max,font_path='‪C:\\Windows\\Fonts\\kaiu.ttf',collocations=False).generate(text)\n",
    "    plt.figure(figsize=size)\n",
    "    plt.title(title, size=title_size)\n",
    "    plt.imshow(wordcloud, interpolation='bilinear')\n",
    "    plt.axis(\"off\")\n",
    "\n",
    "plot_wordcloud(' '.join(all), title='cluster_0_Ingredients')"
   ]
  },
  {
   "cell_type": "code",
   "execution_count": null,
   "metadata": {},
   "outputs": [],
   "source": [
    "#方法三\n",
    "#製作詞頻字典(成為文字雲generate_from_frequency的input)\n",
    "count_item = dict()\n",
    "for i in range(889):\n",
    "    count_item[item_name[i]] = int(sum_in_cluster[i])\n",
    "count_item"
   ]
  },
  {
   "cell_type": "code",
   "execution_count": null,
   "metadata": {},
   "outputs": [],
   "source": [
    "from wordcloud import WordCloud\n",
    "wordcloud_try = WordCloud(font_path='‪C:\\Windows\\Fonts\\kaiu.ttf').generate_from_frequencies(count_item)\n",
    "plt.imshow(wordcloud_try, interpolation='bilinear')"
   ]
  },
  {
   "cell_type": "code",
   "execution_count": null,
   "metadata": {},
   "outputs": [],
   "source": [
    "dic_list = [{},{},{},{},{}]\n",
    "for k in range(5):\n",
    "    sum_in_cluster_single = [(recipe_cluster[recipe_cluster['cluster']== k].iloc[:,num]).sum() for num in range(1,890)]\n",
    "    for i in range(675):\n",
    "        dic_list[k][item_name[i]] = int(sum_in_cluster_single[i])\n",
    "dic_list"
   ]
  },
  {
   "cell_type": "code",
   "execution_count": null,
   "metadata": {},
   "outputs": [],
   "source": [
    "wordcloud_0 = WordCloud(font_path='‪C:\\Windows\\Fonts\\kaiu.ttf').generate_from_frequencies(dic_list[0])\n",
    "plt.imshow(wordcloud_0, interpolation='bilinear')"
   ]
  },
  {
   "cell_type": "code",
   "execution_count": null,
   "metadata": {},
   "outputs": [],
   "source": [
    "wordcloud_1 = WordCloud(font_path='‪C:\\Windows\\Fonts\\kaiu.ttf').generate_from_frequencies(dic_list[1])\n",
    "plt.imshow(wordcloud_1, interpolation='bilinear')"
   ]
  },
  {
   "cell_type": "code",
   "execution_count": null,
   "metadata": {},
   "outputs": [],
   "source": [
    "wordcloud_2 = WordCloud(font_path='‪C:\\Windows\\Fonts\\kaiu.ttf').generate_from_frequencies(dic_list[2])\n",
    "plt.imshow(wordcloud_2, interpolation='bilinear')"
   ]
  },
  {
   "cell_type": "code",
   "execution_count": null,
   "metadata": {},
   "outputs": [],
   "source": [
    "wordcloud_3 = WordCloud(font_path='‪C:\\Windows\\Fonts\\kaiu.ttf').generate_from_frequencies(dic_list[3])\n",
    "plt.imshow(wordcloud_3, interpolation='bilinear')"
   ]
  },
  {
   "cell_type": "code",
   "execution_count": null,
   "metadata": {
    "scrolled": true
   },
   "outputs": [],
   "source": [
    "wordcloud_4 = WordCloud(font_path='‪C:\\Windows\\Fonts\\kaiu.ttf').generate_from_frequencies(dic_list[4])\n",
    "plt.imshow(wordcloud_4, interpolation='bilinear')"
   ]
  },
  {
   "cell_type": "code",
   "execution_count": null,
   "metadata": {},
   "outputs": [],
   "source": []
  }
 ],
 "metadata": {
  "kernelspec": {
   "display_name": "Python 3",
   "language": "python",
   "name": "python3"
  },
  "language_info": {
   "codemirror_mode": {
    "name": "ipython",
    "version": 3
   },
   "file_extension": ".py",
   "mimetype": "text/x-python",
   "name": "python",
   "nbconvert_exporter": "python",
   "pygments_lexer": "ipython3",
   "version": "3.7.9"
  }
 },
 "nbformat": 4,
 "nbformat_minor": 4
}